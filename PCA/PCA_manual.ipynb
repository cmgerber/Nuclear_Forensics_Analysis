{
 "cells": [
  {
   "cell_type": "code",
   "execution_count": 1,
   "metadata": {
    "collapsed": true
   },
   "outputs": [],
   "source": [
    "%matplotlib inline"
   ]
  },
  {
   "cell_type": "code",
   "execution_count": 55,
   "metadata": {
    "collapsed": false
   },
   "outputs": [],
   "source": [
    "import pandas as pd\n",
    "import numpy as np\n",
    "from sklearn.decomposition import PCA\n",
    "import matplotlib.pyplot as plt\n",
    "from mpl_toolkits.mplot3d import Axes3D\n",
    "from sklearn.preprocessing import StandardScaler\n",
    "import seaborn"
   ]
  },
  {
   "cell_type": "code",
   "execution_count": 3,
   "metadata": {
    "collapsed": true
   },
   "outputs": [],
   "source": [
    "#import data\n",
    "df = pd.read_excel('All_Isotopes_Generated.xlsx', 'Sheet1')\n",
    "\n",
    "needed_isotopes = ['Reactor', 'Enrichment', 'u234', 'u235', 'u236', 'u238',\n",
    "                   'pu238', 'pu239', 'pu240', 'pu241', 'pu242']\n",
    "                   \n",
    "df = df[needed_isotopes]\n",
    "\n",
    "# split data table into data X and class labels y\n",
    "x = df.ix[:,2:].values\n",
    "y = df.ix[:,0:2].values"
   ]
  },
  {
   "cell_type": "code",
   "execution_count": 4,
   "metadata": {
    "collapsed": true
   },
   "outputs": [],
   "source": [
    "x_std = StandardScaler().fit_transform(x)"
   ]
  },
  {
   "cell_type": "markdown",
   "metadata": {},
   "source": [
    "### Covariance Matrix"
   ]
  },
  {
   "cell_type": "code",
   "execution_count": 16,
   "metadata": {
    "collapsed": false
   },
   "outputs": [
    {
     "name": "stdout",
     "output_type": "stream",
     "text": [
      "Covariance matrix \n",
      "[[ 1.00136054  0.92767294 -0.14885239 -0.11775597 -0.42614264 -0.12190458\n",
      "  -0.58252194 -0.44362169 -0.55335077]\n",
      " [ 0.92767294  1.00136054 -0.49186034  0.18916481 -0.61973438 -0.33354484\n",
      "  -0.80283918 -0.65478251 -0.70479229]\n",
      " [-0.14885239 -0.49186034  1.00136054 -0.89523878  0.80246902  0.75721837\n",
      "   0.84568749  0.85166642  0.69320368]\n",
      " [-0.11775597  0.18916481 -0.89523878  1.00136054 -0.80977751 -0.71715002\n",
      "  -0.71502266 -0.78270486 -0.69348626]\n",
      " [-0.42614264 -0.61973438  0.80246902 -0.80977751  1.00136054  0.60245834\n",
      "   0.89680945  0.9019898   0.94348875]\n",
      " [-0.12190458 -0.33354484  0.75721837 -0.71715002  0.60245834  1.00136054\n",
      "   0.67090778  0.83489857  0.44586445]\n",
      " [-0.58252194 -0.80283918  0.84568749 -0.71502266  0.89680945  0.67090778\n",
      "   1.00136054  0.93928643  0.90174966]\n",
      " [-0.44362169 -0.65478251  0.85166642 -0.78270486  0.9019898   0.83489857\n",
      "   0.93928643  1.00136054  0.81376063]\n",
      " [-0.55335077 -0.70479229  0.69320368 -0.69348626  0.94348875  0.44586445\n",
      "   0.90174966  0.81376063  1.00136054]]\n"
     ]
    }
   ],
   "source": [
    "mean_vec = np.mean(x_std, axis=0)\n",
    "cov_mat = (x_std - mean_vec).T.dot((x_std - mean_vec)) / (x_std.shape[0]-1)\n",
    "print('Covariance matrix \\n%s' %cov_mat)"
   ]
  },
  {
   "cell_type": "code",
   "execution_count": 18,
   "metadata": {
    "collapsed": false
   },
   "outputs": [
    {
     "name": "stdout",
     "output_type": "stream",
     "text": [
      "Eigenvectors \n",
      "[[-0.20030876  0.63771992 -0.15332905 -0.13361956  0.08795281 -0.16025946\n",
      "   0.19704803 -0.34133174 -0.56839392]\n",
      " [-0.29116559  0.48459491 -0.14902883  0.36369115  0.05936071 -0.14502893\n",
      "  -0.01893453 -0.09476705  0.70143648]\n",
      " [ 0.3503192   0.25049007  0.05634367 -0.69679685 -0.24047999  0.14134595\n",
      "  -0.18217282 -0.30491986  0.34908216]\n",
      " [-0.3139701  -0.43617018  0.23567336  0.04917234 -0.13647312 -0.13131746\n",
      "   0.187426   -0.75855499  0.08255381]\n",
      " [ 0.37450749  0.03027429 -0.34050778  0.30490781 -0.65867462  0.07657612\n",
      "   0.45616132 -0.04241849 -0.01773838]\n",
      " [ 0.2939705   0.28428875  0.70603595  0.33482561  0.13089802  0.41205683\n",
      "   0.15174645 -0.10516784 -0.03396947]\n",
      " [ 0.38879072 -0.08404245 -0.00095515 -0.16326499  0.49201034 -0.43468783\n",
      "   0.58843443  0.02957044  0.19226309]\n",
      " [ 0.3842011   0.05973259  0.1992037   0.25971811 -0.16573919 -0.67280028\n",
      "  -0.48505122 -0.101921   -0.12607005]\n",
      " [ 0.35826668 -0.11455848 -0.49137433  0.25048928  0.43789823  0.31431211\n",
      "  -0.28259196 -0.42662413 -0.04375386]]\n",
      "\n",
      "Eigenvalues \n",
      "[  6.37245171e+00   1.78840329e+00   5.53078250e-01   2.09220561e-01\n",
      "   4.94126408e-02   3.55548154e-02   3.47517099e-03   1.11444849e-04\n",
      "   5.37017734e-04]\n"
     ]
    }
   ],
   "source": [
    "#eigendecomposition on the matrix\n",
    "cov_mat = np.cov(x_std.T)\n",
    "\n",
    "eig_vals, eig_vecs = np.linalg.eig(cov_mat)\n",
    "\n",
    "print('Eigenvectors \\n%s' %eig_vecs)\n",
    "print('\\nEigenvalues \\n%s' %eig_vals)"
   ]
  },
  {
   "cell_type": "markdown",
   "metadata": {},
   "source": [
    "### Correlation Matrix"
   ]
  },
  {
   "cell_type": "code",
   "execution_count": 20,
   "metadata": {
    "collapsed": false
   },
   "outputs": [
    {
     "name": "stdout",
     "output_type": "stream",
     "text": [
      "Eigenvectors \n",
      "[[-0.20030876  0.63771992 -0.15332905 -0.13361956  0.08795281 -0.16025946\n",
      "   0.19704803  0.34133174 -0.56839392]\n",
      " [-0.29116559  0.48459491 -0.14902883  0.36369115  0.05936071 -0.14502893\n",
      "  -0.01893453  0.09476705  0.70143648]\n",
      " [ 0.3503192   0.25049007  0.05634367 -0.69679685 -0.24047999  0.14134595\n",
      "  -0.18217282  0.30491986  0.34908216]\n",
      " [-0.3139701  -0.43617018  0.23567336  0.04917234 -0.13647312 -0.13131746\n",
      "   0.187426    0.75855499  0.08255381]\n",
      " [ 0.37450749  0.03027429 -0.34050778  0.30490781 -0.65867462  0.07657612\n",
      "   0.45616132  0.04241849 -0.01773838]\n",
      " [ 0.2939705   0.28428875  0.70603595  0.33482561  0.13089802  0.41205683\n",
      "   0.15174645  0.10516784 -0.03396947]\n",
      " [ 0.38879072 -0.08404245 -0.00095515 -0.16326499  0.49201034 -0.43468783\n",
      "   0.58843443 -0.02957044  0.19226309]\n",
      " [ 0.3842011   0.05973259  0.1992037   0.25971811 -0.16573919 -0.67280028\n",
      "  -0.48505122  0.101921   -0.12607005]\n",
      " [ 0.35826668 -0.11455848 -0.49137433  0.25048928  0.43789823  0.31431211\n",
      "  -0.28259196  0.42662413 -0.04375386]]\n",
      "\n",
      "Eigenvalues \n",
      "[  6.36379348e+00   1.78597340e+00   5.52326785e-01   2.08936294e-01\n",
      "   4.93455041e-02   3.55065072e-02   3.47044929e-03   1.11293429e-04\n",
      "   5.36288090e-04]\n"
     ]
    }
   ],
   "source": [
    "#Eigendecomposition of the standardized data based on the correlation matrix\n",
    "cor_mat1 = np.corrcoef(x_std.T)\n",
    "\n",
    "eig_vals, eig_vecs = np.linalg.eig(cor_mat1)\n",
    "\n",
    "print('Eigenvectors \\n%s' %eig_vecs)\n",
    "print('\\nEigenvalues \\n%s' %eig_vals)"
   ]
  },
  {
   "cell_type": "code",
   "execution_count": 21,
   "metadata": {
    "collapsed": false
   },
   "outputs": [
    {
     "name": "stdout",
     "output_type": "stream",
     "text": [
      "Eigenvectors \n",
      "[[-0.20030876  0.63771992 -0.15332905 -0.13361956  0.08795281 -0.16025946\n",
      "   0.19704803 -0.34133174 -0.56839392]\n",
      " [-0.29116559  0.48459491 -0.14902883  0.36369115  0.05936071 -0.14502893\n",
      "  -0.01893453 -0.09476705  0.70143648]\n",
      " [ 0.3503192   0.25049007  0.05634367 -0.69679685 -0.24047999  0.14134595\n",
      "  -0.18217282 -0.30491986  0.34908216]\n",
      " [-0.3139701  -0.43617018  0.23567336  0.04917234 -0.13647312 -0.13131746\n",
      "   0.187426   -0.75855499  0.08255381]\n",
      " [ 0.37450749  0.03027429 -0.34050778  0.30490781 -0.65867462  0.07657612\n",
      "   0.45616132 -0.04241849 -0.01773838]\n",
      " [ 0.2939705   0.28428875  0.70603595  0.33482561  0.13089802  0.41205683\n",
      "   0.15174645 -0.10516784 -0.03396947]\n",
      " [ 0.38879072 -0.08404245 -0.00095515 -0.16326499  0.49201034 -0.43468783\n",
      "   0.58843443  0.02957044  0.19226309]\n",
      " [ 0.3842011   0.05973259  0.1992037   0.25971811 -0.16573919 -0.67280028\n",
      "  -0.48505122 -0.101921   -0.12607005]\n",
      " [ 0.35826668 -0.11455848 -0.49137433  0.25048928  0.43789823  0.31431211\n",
      "  -0.28259196 -0.42662413 -0.04375386]]\n",
      "\n",
      "Eigenvalues \n",
      "[  6.36379348e+00   1.78597340e+00   5.52326785e-01   2.08936294e-01\n",
      "   4.93455041e-02   3.55065072e-02   3.47044929e-03   1.11293429e-04\n",
      "   5.36288090e-04]\n"
     ]
    }
   ],
   "source": [
    "#Eigendecomposition of the raw data based on the correlation matrix\n",
    "\n",
    "cor_mat2 = np.corrcoef(x.T)\n",
    "\n",
    "eig_vals, eig_vecs = np.linalg.eig(cor_mat2)\n",
    "\n",
    "print('Eigenvectors \\n%s' %eig_vecs)\n",
    "print('\\nEigenvalues \\n%s' %eig_vals)"
   ]
  },
  {
   "cell_type": "markdown",
   "metadata": {},
   "source": [
    "### Singular Vextor Decomposition"
   ]
  },
  {
   "cell_type": "code",
   "execution_count": 23,
   "metadata": {
    "collapsed": false
   },
   "outputs": [
    {
     "data": {
      "text/plain": [
       "array([[-0.20030876, -0.63771992, -0.15332905, -0.13361956,  0.08795281,\n",
       "         0.16025946, -0.19704803, -0.56839392,  0.34133174],\n",
       "       [-0.29116559, -0.48459491, -0.14902883,  0.36369115,  0.05936071,\n",
       "         0.14502893,  0.01893453,  0.70143648,  0.09476705],\n",
       "       [ 0.3503192 , -0.25049007,  0.05634367, -0.69679685, -0.24047999,\n",
       "        -0.14134595,  0.18217282,  0.34908216,  0.30491986],\n",
       "       [-0.3139701 ,  0.43617018,  0.23567336,  0.04917234, -0.13647312,\n",
       "         0.13131746, -0.187426  ,  0.08255381,  0.75855499],\n",
       "       [ 0.37450749, -0.03027429, -0.34050778,  0.30490781, -0.65867462,\n",
       "        -0.07657612, -0.45616132, -0.01773838,  0.04241849],\n",
       "       [ 0.2939705 , -0.28428875,  0.70603595,  0.33482561,  0.13089802,\n",
       "        -0.41205683, -0.15174645, -0.03396947,  0.10516784],\n",
       "       [ 0.38879072,  0.08404245, -0.00095515, -0.16326499,  0.49201034,\n",
       "         0.43468783, -0.58843443,  0.19226309, -0.02957044],\n",
       "       [ 0.3842011 , -0.05973259,  0.1992037 ,  0.25971811, -0.16573919,\n",
       "         0.67280028,  0.48505122, -0.12607005,  0.101921  ],\n",
       "       [ 0.35826668,  0.11455848, -0.49137433,  0.25048928,  0.43789823,\n",
       "        -0.31431211,  0.28259196, -0.04375386,  0.42662413]])"
      ]
     },
     "execution_count": 23,
     "metadata": {},
     "output_type": "execute_result"
    }
   ],
   "source": [
    "u,s,v = np.linalg.svd(x_std.T)\n",
    "u"
   ]
  },
  {
   "cell_type": "markdown",
   "metadata": {},
   "source": [
    "### Selecting Priciple Components"
   ]
  },
  {
   "cell_type": "code",
   "execution_count": 24,
   "metadata": {
    "collapsed": false
   },
   "outputs": [
    {
     "name": "stdout",
     "output_type": "stream",
     "text": [
      "Everything ok!\n"
     ]
    }
   ],
   "source": [
    "#sorting eigenpairs\n",
    "\n",
    "for ev in eig_vecs:\n",
    "    np.testing.assert_array_almost_equal(1.0, np.linalg.norm(ev))\n",
    "print('Everything ok!')"
   ]
  },
  {
   "cell_type": "code",
   "execution_count": 25,
   "metadata": {
    "collapsed": false
   },
   "outputs": [
    {
     "name": "stdout",
     "output_type": "stream",
     "text": [
      "Eigenvalues in descending order:\n",
      "6.36379348365\n",
      "1.78597339529\n",
      "0.552326784917\n",
      "0.208936294005\n",
      "0.0493455040835\n",
      "0.03550650724\n",
      "0.00347044929353\n",
      "0.000536288090161\n",
      "0.000111293428871\n"
     ]
    }
   ],
   "source": [
    "# Make a list of (eigenvalue, eigenvector) tuples\n",
    "eig_pairs = [(np.abs(eig_vals[i]), eig_vecs[:,i]) for i in range(len(eig_vals))]\n",
    "\n",
    "# Sort the (eigenvalue, eigenvector) tuples from high to low\n",
    "eig_pairs.sort()\n",
    "eig_pairs.reverse()\n",
    "\n",
    "# Visually confirm that the list is correctly sorted by decreasing eigenvalues\n",
    "print('Eigenvalues in descending order:')\n",
    "for i in eig_pairs:\n",
    "    print(i[0])"
   ]
  },
  {
   "cell_type": "markdown",
   "metadata": {},
   "source": [
    "### Explained Variance"
   ]
  },
  {
   "cell_type": "code",
   "execution_count": 58,
   "metadata": {
    "collapsed": false
   },
   "outputs": [
    {
     "name": "stdout",
     "output_type": "stream",
     "text": [
      "[  70.70881649   90.55296532   96.6899296    99.01144398   99.55972735\n",
      "   99.9542441    99.99280465   99.99876341  100.        ]\n"
     ]
    },
    {
     "data": {
      "image/png": "[encoded data removed]",
      "text/plain": [
       "<matplotlib.figure.Figure at 0x115abba90>"
      ]
     },
     "metadata": {},
     "output_type": "display_data"
    }
   ],
   "source": [
    "tot = sum(eig_vals)\n",
    "var_exp = [(i / tot)*100 for i in sorted(eig_vals, reverse=True)]\n",
    "cum_var_exp = np.cumsum(var_exp)\n",
    "\n",
    "print cum_var_exp\n",
    "\n",
    "trace1 = plt.bar(\n",
    "        left=[i for i in range(1,10)],\n",
    "        height=var_exp)\n",
    "\n",
    "trace2 = plt.plot(\n",
    "        [i for i in range(1,10)], \n",
    "        cum_var_exp,\n",
    "        label='cumulative explained variance')\n",
    "\n",
    "plt.ylim(0,100)\n",
    "plt.show()"
   ]
  },
  {
   "cell_type": "markdown",
   "metadata": {},
   "source": [
    "### Projection Matrix"
   ]
  },
  {
   "cell_type": "code",
   "execution_count": 65,
   "metadata": {
    "collapsed": false
   },
   "outputs": [
    {
     "name": "stdout",
     "output_type": "stream",
     "text": [
      "('Matrix W:\\n', array([[-0.20030876,  0.63771992],\n",
      "       [-0.29116559,  0.48459491],\n",
      "       [ 0.3503192 ,  0.25049007],\n",
      "       [-0.3139701 , -0.43617018],\n",
      "       [ 0.37450749,  0.03027429],\n",
      "       [ 0.2939705 ,  0.28428875],\n",
      "       [ 0.38879072, -0.08404245],\n",
      "       [ 0.3842011 ,  0.05973259],\n",
      "       [ 0.35826668, -0.11455848]]))\n"
     ]
    }
   ],
   "source": [
    "matrix_w = np.hstack((eig_pairs[0][1].reshape(9,1), \n",
    "                      eig_pairs[1][1].reshape(9,1)))\n",
    "\n",
    "print('Matrix W:\\n', matrix_w)"
   ]
  },
  {
   "cell_type": "markdown",
   "metadata": {},
   "source": [
    "### Project Onto the New Feature Space"
   ]
  },
  {
   "cell_type": "code",
   "execution_count": 67,
   "metadata": {
    "collapsed": false
   },
   "outputs": [],
   "source": [
    "Y = x_std.dot(matrix_w)"
   ]
  },
  {
   "cell_type": "code",
   "execution_count": 70,
   "metadata": {
    "collapsed": false
   },
   "outputs": [
    {
     "ename": "IndexError",
     "evalue": "too many indices for array",
     "output_type": "error",
     "traceback": [
      "\u001b[0;31m---------------------------------------------------------------------------\u001b[0m",
      "\u001b[0;31mIndexError\u001b[0m                                Traceback (most recent call last)",
      "\u001b[0;32m<ipython-input-70-512f2c83d17b>\u001b[0m in \u001b[0;36m<module>\u001b[0;34m()\u001b[0m\n\u001b[0;32m----> 1\u001b[0;31m \u001b[0mY\u001b[0m\u001b[0;34m[\u001b[0m\u001b[0my\u001b[0m\u001b[0;34m==\u001b[0m\u001b[0mname\u001b[0m\u001b[0;34m,\u001b[0m\u001b[0;36m0\u001b[0m\u001b[0;34m]\u001b[0m\u001b[0;34m\u001b[0m\u001b[0m\n\u001b[0m",
      "\u001b[0;31mIndexError\u001b[0m: too many indices for array"
     ]
    }
   ],
   "source": [
    "Y[y==name,0]"
   ]
  },
  {
   "cell_type": "code",
   "execution_count": 71,
   "metadata": {
    "collapsed": false
   },
   "outputs": [
    {
     "ename": "IndexError",
     "evalue": "too many indices for array",
     "output_type": "error",
     "traceback": [
      "\u001b[0;31m---------------------------------------------------------------------------\u001b[0m",
      "\u001b[0;31mIndexError\u001b[0m                                Traceback (most recent call last)",
      "\u001b[0;32m<ipython-input-71-625ee0b7b4f2>\u001b[0m in \u001b[0;36m<module>\u001b[0;34m()\u001b[0m\n\u001b[1;32m      4\u001b[0m \u001b[0;34m\u001b[0m\u001b[0m\n\u001b[1;32m      5\u001b[0m     trace = plt.scatter(\n\u001b[0;32m----> 6\u001b[0;31m         \u001b[0mY\u001b[0m\u001b[0;34m[\u001b[0m\u001b[0my\u001b[0m\u001b[0;34m==\u001b[0m\u001b[0mname\u001b[0m\u001b[0;34m,\u001b[0m\u001b[0;36m0\u001b[0m\u001b[0;34m]\u001b[0m\u001b[0;34m,\u001b[0m\u001b[0;34m\u001b[0m\u001b[0m\n\u001b[0m\u001b[1;32m      7\u001b[0m         \u001b[0mY\u001b[0m\u001b[0;34m[\u001b[0m\u001b[0my\u001b[0m\u001b[0;34m==\u001b[0m\u001b[0mname\u001b[0m\u001b[0;34m,\u001b[0m\u001b[0;36m1\u001b[0m\u001b[0;34m]\u001b[0m\u001b[0;34m,\u001b[0m\u001b[0;34m\u001b[0m\u001b[0m\n\u001b[1;32m      8\u001b[0m         \u001b[0mmode\u001b[0m\u001b[0;34m=\u001b[0m\u001b[0;34m'markers'\u001b[0m\u001b[0;34m,\u001b[0m\u001b[0;34m\u001b[0m\u001b[0m\n",
      "\u001b[0;31mIndexError\u001b[0m: too many indices for array"
     ]
    }
   ],
   "source": [
    "traces = []\n",
    "\n",
    "for name in ('BWR', 'VVER', 'RBMK'):\n",
    "\n",
    "    trace = plt.scatter(\n",
    "        Y[y==name,0],\n",
    "        Y[y==name,1],\n",
    "        mode='markers',\n",
    "        label=name,\n",
    "        )\n",
    "    traces.append(trace)\n",
    "\n",
    "\n",
    "data = Data(traces)\n",
    "layout = Layout(showlegend=True,\n",
    "                scene=Scene(xaxis=XAxis(title='PC1'),\n",
    "                yaxis=YAxis(title='PC2'),))\n",
    "\n",
    "fig = Figure(data=data, layout=layout)\n",
    "py.iplot(fig)"
   ]
  },
  {
   "cell_type": "code",
   "execution_count": null,
   "metadata": {
    "collapsed": true
   },
   "outputs": [],
   "source": []
  },
  {
   "cell_type": "code",
   "execution_count": null,
   "metadata": {
    "collapsed": true
   },
   "outputs": [],
   "source": []
  },
  {
   "cell_type": "markdown",
   "metadata": {},
   "source": [
    "### With Sklearn"
   ]
  },
  {
   "cell_type": "code",
   "execution_count": 5,
   "metadata": {
    "collapsed": true
   },
   "outputs": [],
   "source": [
    "pca_model = PCA(n_components=2)\n",
    "result = pca_model.fit_transform(x_std)"
   ]
  },
  {
   "cell_type": "code",
   "execution_count": 9,
   "metadata": {
    "collapsed": false
   },
   "outputs": [
    {
     "ename": "IndexError",
     "evalue": "too many indices for array",
     "output_type": "error",
     "traceback": [
      "\u001b[0;31m---------------------------------------------------------------------------\u001b[0m",
      "\u001b[0;31mIndexError\u001b[0m                                Traceback (most recent call last)",
      "\u001b[0;32m<ipython-input-9-bb210a037e7d>\u001b[0m in \u001b[0;36m<module>\u001b[0;34m()\u001b[0m\n\u001b[1;32m      4\u001b[0m \u001b[0;34m\u001b[0m\u001b[0m\n\u001b[1;32m      5\u001b[0m     trace = plt.scatter(\n\u001b[0;32m----> 6\u001b[0;31m         \u001b[0mx\u001b[0m \u001b[0;34m=\u001b[0m \u001b[0mresult\u001b[0m\u001b[0;34m[\u001b[0m\u001b[0my\u001b[0m\u001b[0;34m==\u001b[0m\u001b[0mname\u001b[0m\u001b[0;34m,\u001b[0m \u001b[0;36m0\u001b[0m\u001b[0;34m]\u001b[0m\u001b[0;34m,\u001b[0m\u001b[0;34m\u001b[0m\u001b[0m\n\u001b[0m\u001b[1;32m      7\u001b[0m         \u001b[0my\u001b[0m \u001b[0;34m=\u001b[0m \u001b[0mresult\u001b[0m\u001b[0;34m[\u001b[0m\u001b[0my\u001b[0m\u001b[0;34m==\u001b[0m\u001b[0mname\u001b[0m\u001b[0;34m,\u001b[0m \u001b[0;36m1\u001b[0m\u001b[0;34m]\u001b[0m\u001b[0;34m,\u001b[0m\u001b[0;34m\u001b[0m\u001b[0m\n\u001b[1;32m      8\u001b[0m         \u001b[0mmode\u001b[0m\u001b[0;34m=\u001b[0m\u001b[0;34m'markers'\u001b[0m\u001b[0;34m,\u001b[0m\u001b[0;34m\u001b[0m\u001b[0m\n",
      "\u001b[0;31mIndexError\u001b[0m: too many indices for array"
     ]
    }
   ],
   "source": [
    "traces = []\n",
    "\n",
    "for name in ('BWR', 'VVER', 'RBMK'):\n",
    "    \n",
    "    trace = plt.scatter(\n",
    "        x = result[y==name, 0],\n",
    "        y = result[y==name, 1],\n",
    "        mode='markers',\n",
    "        name=name,\n",
    "        marker=Marker(\n",
    "            size=12,\n",
    "            line=Line(\n",
    "                color='rgba(217, 217, 217, 0.14)',\n",
    "                width=0.5),\n",
    "            opacity=0.8))\n",
    "    traces.append(trace)\n",
    "    \n",
    "data = plt.data(traces)\n",
    "layout = plt.layout(xaxis=XAxis(title='PC1', showline=False),\n",
    "                yaxis=YAxis(title='PC2', showline=False))\n",
    "fig = plt.figure(data=data, layout=layout)\n",
    "plt.show()"
   ]
  },
  {
   "cell_type": "code",
   "execution_count": 10,
   "metadata": {
    "collapsed": false
   },
   "outputs": [
    {
     "data": {
      "text/plain": [
       "array([[ 2.32435871,  0.64066007],\n",
       "       [ 2.15985812,  0.6487949 ],\n",
       "       [ 1.99502823,  0.65783003],\n",
       "       ..., \n",
       "       [ 2.76114489,  1.84638427],\n",
       "       [ 2.60253866,  1.85779091],\n",
       "       [ 2.44258749,  1.87149856]])"
      ]
     },
     "execution_count": 10,
     "metadata": {},
     "output_type": "execute_result"
    }
   ],
   "source": [
    "result"
   ]
  },
  {
   "cell_type": "code",
   "execution_count": null,
   "metadata": {
    "collapsed": true
   },
   "outputs": [],
   "source": []
  }
 ],
 "metadata": {
  "kernelspec": {
   "display_name": "Python 2",
   "language": "python",
   "name": "python2"
  },
  "language_info": {
   "codemirror_mode": {
    "name": "ipython",
    "version": 2
   },
   "file_extension": ".py",
   "mimetype": "text/x-python",
   "name": "python",
   "nbconvert_exporter": "python",
   "pygments_lexer": "ipython2",
   "version": "2.7.9"
  }
 },
 "nbformat": 4,
 "nbformat_minor": 0
}
