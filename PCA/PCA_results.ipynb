{
 "cells": [
  {
   "cell_type": "code",
   "execution_count": 1,
   "metadata": {
    "collapsed": false
   },
   "outputs": [
    {
     "name": "stderr",
     "output_type": "stream",
     "text": [
      "/Users/colingerber/anaconda/lib/python2.7/site-packages/pytz-2013b-py2.7.egg/pytz/__init__.py:35: UserWarning: Module argparse was already imported from /Users/colingerber/anaconda/lib/python2.7/argparse.pyc, but /Users/colingerber/anaconda/lib/python2.7/site-packages is being added to sys.path\n",
      "  from pkg_resources import resource_stream\n"
     ]
    }
   ],
   "source": [
    "import pandas as pd\n",
    "import cPickle as pickle\n",
    "import os\n",
    "import re"
   ]
  },
  {
   "cell_type": "code",
   "execution_count": 2,
   "metadata": {
    "collapsed": true
   },
   "outputs": [],
   "source": [
    "df_comp = pickle.load(open('real_reactor_comparison_df.pkl', 'rb'))"
   ]
  },
  {
   "cell_type": "code",
   "execution_count": 3,
   "metadata": {
    "collapsed": false
   },
   "outputs": [],
   "source": [
    "#load in data files to run\n",
    "data_list = []\n",
    "data_files = os.listdir('data/')\n",
    "for f in data_files:\n",
    "    if 'xlsx' in f:\n",
    "        data_list.append(f)"
   ]
  },
  {
   "cell_type": "code",
   "execution_count": 4,
   "metadata": {
    "collapsed": true
   },
   "outputs": [],
   "source": [
    "df = pd.read_excel('data/'+data_list[0], 'Sheet2')"
   ]
  },
  {
   "cell_type": "code",
   "execution_count": 5,
   "metadata": {
    "collapsed": false
   },
   "outputs": [
    {
     "data": {
      "text/plain": [
       "[(u'PC3/PC1', u'BWR'), (u'PC2/PC1', u'RBMK'), (u'PC2/PC3', u'RBMK')]"
      ]
     },
     "execution_count": 5,
     "metadata": {},
     "output_type": "execute_result"
    }
   ],
   "source": [
    "zip(df.index,df.reactor)"
   ]
  },
  {
   "cell_type": "code",
   "execution_count": 6,
   "metadata": {
    "collapsed": false
   },
   "outputs": [],
   "source": [
    "m = re.search('[0-9]+', data_list[1])\n",
    "key = m.group(0)"
   ]
  },
  {
   "cell_type": "code",
   "execution_count": 7,
   "metadata": {
    "collapsed": true
   },
   "outputs": [],
   "source": [
    "result_dict = {}\n",
    "for f in data_list:\n",
    "    #find the sample number from file name\n",
    "    #use for key of dict\n",
    "    df = pd.read_excel('data/'+f, 'Sheet2')\n",
    "    m = re.search('[0-9]+', f)\n",
    "    key = int(m.group(0))\n",
    "    #create a zip of the reactors and the principle components as the values\n",
    "    result_dict[key] = zip(df.index,df.reactor)"
   ]
  },
  {
   "cell_type": "code",
   "execution_count": 13,
   "metadata": {
    "collapsed": false
   },
   "outputs": [],
   "source": [
    "#the correct reactor list\n",
    "correct_reactor = list(df_comp.RealReactor)\n",
    "results_tallied = {}\n",
    "wrong_dict = {}\n",
    "for key, value in result_dict.items():\n",
    "    correct = correct_reactor[key-1]\n",
    "    pc, reactor = zip(*value)\n",
    "    if correct not in results_tallied:\n",
    "        results_tallied[correct] = {pc[0]:{'right':0, 'wrong':0},\n",
    "                                   pc[1]:{'right':0, 'wrong':0},\n",
    "                                   pc[2]:{'right':0, 'wrong':0}}\n",
    "    for ix, r in enumerate(reactor):\n",
    "        if r == correct:\n",
    "            results_tallied[correct][pc[ix]]['right'] += 1\n",
    "        else:\n",
    "            results_tallied[correct][pc[ix]]['wrong'] += 1\n",
    "            wkey = pc[ix]+correct\n",
    "            if wkey not in wrong_dict:\n",
    "                wrong_dict[wkey] = {'BWR':0, 'RBMK':0, 'VVER':0}\n",
    "            wrong_dict[wkey][r] += 1\n",
    "    "
   ]
  },
  {
   "cell_type": "code",
   "execution_count": 14,
   "metadata": {
    "collapsed": false
   },
   "outputs": [
    {
     "data": {
      "text/plain": [
       "{u'PC2/PC1BWR': {'BWR': 0, 'RBMK': 12, 'VVER': 2},\n",
       " u'PC2/PC1RBMK': {'BWR': 7, 'RBMK': 0, 'VVER': 0},\n",
       " u'PC2/PC1VVER': {'BWR': 9, 'RBMK': 0, 'VVER': 0},\n",
       " u'PC2/PC3BWR': {'BWR': 0, 'RBMK': 17, 'VVER': 1},\n",
       " u'PC2/PC3RBMK': {'BWR': 7, 'RBMK': 0, 'VVER': 0},\n",
       " u'PC2/PC3VVER': {'BWR': 13, 'RBMK': 0, 'VVER': 0},\n",
       " u'PC3/PC1BWR': {'BWR': 0, 'RBMK': 7, 'VVER': 10},\n",
       " u'PC3/PC1RBMK': {'BWR': 11, 'RBMK': 0, 'VVER': 4},\n",
       " u'PC3/PC1VVER': {'BWR': 3, 'RBMK': 1, 'VVER': 0}}"
      ]
     },
     "execution_count": 14,
     "metadata": {},
     "output_type": "execute_result"
    }
   ],
   "source": [
    "wrong_dict9"
   ]
  },
  {
   "cell_type": "code",
   "execution_count": 9,
   "metadata": {
    "collapsed": false
   },
   "outputs": [
    {
     "data": {
      "text/plain": [
       "{'BWR': {u'PC2/PC1': {'right': 20, 'wrong': 14},\n",
       "  u'PC2/PC3': {'right': 16, 'wrong': 18},\n",
       "  u'PC3/PC1': {'right': 17, 'wrong': 17}},\n",
       " 'RBMK': {u'PC2/PC1': {'right': 34, 'wrong': 7},\n",
       "  u'PC2/PC3': {'right': 34, 'wrong': 7},\n",
       "  u'PC3/PC1': {'right': 26, 'wrong': 15}},\n",
       " 'VVER': {u'PC2/PC1': {'right': 27, 'wrong': 9},\n",
       "  u'PC2/PC3': {'right': 23, 'wrong': 13},\n",
       "  u'PC3/PC1': {'right': 32, 'wrong': 4}}}"
      ]
     },
     "execution_count": 9,
     "metadata": {},
     "output_type": "execute_result"
    }
   ],
   "source": [
    "results_tallied"
   ]
  },
  {
   "cell_type": "code",
   "execution_count": 10,
   "metadata": {
    "collapsed": false
   },
   "outputs": [
    {
     "name": "stdout",
     "output_type": "stream",
     "text": [
      "BWR\n",
      "PC3/PC1 0.5\n",
      "PC2/PC1 0.588235294118\n",
      "PC2/PC3 0.470588235294\n",
      "RBMK\n",
      "PC3/PC1 0.634146341463\n",
      "PC2/PC1 0.829268292683\n",
      "PC2/PC3 0.829268292683\n",
      "VVER\n",
      "PC3/PC1 0.888888888889\n",
      "PC2/PC1 0.75\n",
      "PC2/PC3 0.638888888889\n"
     ]
    }
   ],
   "source": [
    "#get the percent correct\n",
    "for r in results_tallied:\n",
    "    print r\n",
    "    for pc in results_tallied[r]:\n",
    "        tot = float(results_tallied[r][pc]['right']) + float(results_tallied[r][pc]['wrong'])\n",
    "        print pc, (results_tallied[r][pc]['right']/tot)"
   ]
  },
  {
   "cell_type": "code",
   "execution_count": null,
   "metadata": {
    "collapsed": true
   },
   "outputs": [],
   "source": []
  }
 ],
 "metadata": {
  "kernelspec": {
   "display_name": "Python 2",
   "language": "python",
   "name": "python2"
  },
  "language_info": {
   "codemirror_mode": {
    "name": "ipython",
    "version": 2
   },
   "file_extension": ".py",
   "mimetype": "text/x-python",
   "name": "python",
   "nbconvert_exporter": "python",
   "pygments_lexer": "ipython2",
   "version": "2.7.9"
  }
 },
 "nbformat": 4,
 "nbformat_minor": 0
}
