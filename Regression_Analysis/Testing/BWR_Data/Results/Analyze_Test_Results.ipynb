{
 "metadata": {
  "name": "",
  "signature": "sha256:337de141049b20f6a1535e03f0288a11046388e68f793fd42b6de38b90d6968b"
 },
 "nbformat": 3,
 "nbformat_minor": 0,
 "worksheets": [
  {
   "cells": [
    {
     "cell_type": "code",
     "collapsed": false,
     "input": [
      "import csv\n",
      "import os\n",
      "import pandas as pd\n",
      "from pyUtil import flattenList as flat\n",
      "import re"
     ],
     "language": "python",
     "metadata": {},
     "outputs": [],
     "prompt_number": 13
    },
    {
     "cell_type": "code",
     "collapsed": false,
     "input": [
      "def get_out(directory):\n",
      "    tot_dir_list = os.listdir(directory)\n",
      "    return [f for f in tot_dir_list if '.xlsx' in f]"
     ],
     "language": "python",
     "metadata": {},
     "outputs": [],
     "prompt_number": 3
    },
    {
     "cell_type": "code",
     "collapsed": false,
     "input": [
      "directory = os.getcwd()"
     ],
     "language": "python",
     "metadata": {},
     "outputs": [],
     "prompt_number": 4
    },
    {
     "cell_type": "code",
     "collapsed": false,
     "input": [
      "out_file_list = get_out(directory)\n",
      "#sort the list\n",
      "out_file_list = sorted(out_file_list, key = lambda x: int(re.search('[0-9]+', x).group(0)))"
     ],
     "language": "python",
     "metadata": {},
     "outputs": [],
     "prompt_number": 38
    },
    {
     "cell_type": "code",
     "collapsed": false,
     "input": [
      "def get_data(out_file_list):\n",
      "    result_list = []\n",
      "    for num, f in enumerate(out_file_list):\n",
      "        df = pd.read_excel(f, 'Sheet2')\n",
      "        result_list.append(zip(df.index, df.reactor))\n",
      "    return result_list"
     ],
     "language": "python",
     "metadata": {},
     "outputs": [],
     "prompt_number": 39
    },
    {
     "cell_type": "code",
     "collapsed": false,
     "input": [
      "result_list = get_data(out_file_list)"
     ],
     "language": "python",
     "metadata": {},
     "outputs": [],
     "prompt_number": 40
    },
    {
     "cell_type": "code",
     "collapsed": false,
     "input": [
      "df = pd.DataFrame(zip(*flat.flatten(result_list)))\n",
      "df = df.T\n",
      "df.columns = ['Ratio', 'Reactor']\n",
      "grouped = df.groupby('Ratio')\n",
      "for ratio, data in grouped:\n",
      "    counter_VVER = 0\n",
      "    counter_RBMK = 0\n",
      "    for result in data.Reactor:\n",
      "        if result == 'RBMK':\n",
      "            counter_RBMK += 1\n",
      "        elif result == 'VVER':\n",
      "            counter_VVER += 1\n",
      "    print '%s error: %.2f%%' % (ratio, (100-((counter_RBMK + counter_VVER)/float(len(result_list)))*100))\n",
      "    print 'Error matches: RBMK: %d  VVER: %d' % (counter_RBMK, counter_VVER)"
     ],
     "language": "python",
     "metadata": {},
     "outputs": [
      {
       "output_type": "stream",
       "stream": "stdout",
       "text": [
        "pu238/pu239 error: 83.33%\n",
        "Error matches: RBMK: 4  VVER: 6\n",
        "pu241/pu239 error: 90.00%\n",
        "Error matches: RBMK: 6  VVER: 0\n",
        "pu242/pu239 error: 80.00%\n",
        "Error matches: RBMK: 1  VVER: 11\n"
       ]
      }
     ],
     "prompt_number": 41
    },
    {
     "cell_type": "markdown",
     "metadata": {},
     "source": [
      "Check matching for reactor and enrichment"
     ]
    },
    {
     "cell_type": "code",
     "collapsed": false,
     "input": [
      "#get results with reactor, ration and enrichment\n",
      "\n",
      "def get_data_enrich(out_file_list):\n",
      "    result_list = []\n",
      "    for num, f in enumerate(out_file_list):\n",
      "        df = pd.read_excel(f, 'Sheet2')\n",
      "        result_list.append(zip(df.index, df.reactor, df.enrichment))\n",
      "    return result_list\n",
      "\n",
      "result_list_enrich = get_data_enrich(out_file_list)\n",
      "\n",
      "df_enrich = pd.DataFrame(zip(*flat.flatten(result_list_enrich)))\n",
      "df_enrich = df_enrich.T\n",
      "df_enrich.columns = ['Ratio', 'Reactor', 'Enrichment']"
     ],
     "language": "python",
     "metadata": {},
     "outputs": [],
     "prompt_number": 60
    },
    {
     "cell_type": "code",
     "collapsed": false,
     "input": [
      "# get the real enrichment data to compare against\n",
      "\n",
      "df_real = pd.read_excel('../../All_Data.xlsx', 'Sheet1')\n",
      "df_real = df_real[df_real.Reactor == 'BWR']"
     ],
     "language": "python",
     "metadata": {},
     "outputs": [],
     "prompt_number": 69
    },
    {
     "cell_type": "code",
     "collapsed": false,
     "input": [
      "#match real enichment with guessed enrichment\n",
      "results_enrich = []\n",
      "\n",
      "for ix, row in df_enrich.iterrows():\n",
      "    if row.Reactor == 'BWR':\n",
      "        if list(df_real.Enrichment)[ix/3] == row.Enrichment:\n",
      "            results_enrich.append(row)\n",
      "\n",
      "#put in dataframe\n",
      "df_result_enrich = pd.DataFrame(results_enrich)"
     ],
     "language": "python",
     "metadata": {},
     "outputs": [],
     "prompt_number": 79
    },
    {
     "cell_type": "code",
     "collapsed": false,
     "input": [
      "for ratio, data in df_result_enrich.groupby('Ratio'):\n",
      "    print len(data)\n",
      "    print '%s correct: %.2f%%' % (ratio, (((len(data))/float(len(df_real)))*100))\n"
     ],
     "language": "python",
     "metadata": {},
     "outputs": [
      {
       "output_type": "stream",
       "stream": "stdout",
       "text": [
        "29\n",
        "pu238/pu239 correct: 48.33%\n",
        "12\n",
        "pu241/pu239 correct: 20.00%\n",
        "7\n",
        "pu242/pu239 correct: 11.67%\n"
       ]
      }
     ],
     "prompt_number": 86
    },
    {
     "cell_type": "code",
     "collapsed": false,
     "input": [
      "#match real enichment with guessed enrichment\n",
      "results_enrich_dif = []\n",
      "\n",
      "for ix, row in df_enrich.iterrows():\n",
      "    results_enrich_dif.append(list(df_real.Enrichment)[ix/3] - row.Enrichment)\n",
      "\n",
      "#put in dataframe\n",
      "df_enrich['Enrich_dif'] = results_enrich_dif\n",
      "#df_result_enrich_dif = pd.DataFrame(results_enrich_dif, columns=['Ratio'])\n",
      "\n",
      "for ratio, data in df_enrich.groupby('Ratio'):\n",
      "    count = 0\n",
      "    for ix, row in data.iterrows():\n",
      "        if row.Reactor == 'BWR':\n",
      "            if abs(row.Enrich_dif) <= 1:\n",
      "                count+=1\n",
      "\n",
      "    print count\n",
      "    print '%s: Percent within 1%% enrichment: %.2f%%' % (ratio, (count/float(len(data)))*100)"
     ],
     "language": "python",
     "metadata": {},
     "outputs": [
      {
       "output_type": "stream",
       "stream": "stdout",
       "text": [
        "46\n",
        "pu238/pu239: Percent within 1% enrichment: 76.67%\n",
        "50\n",
        "pu241/pu239: Percent within 1% enrichment: 83.33%\n",
        "39\n",
        "pu242/pu239: Percent within 1% enrichment: 65.00%\n"
       ]
      }
     ],
     "prompt_number": 105
    },
    {
     "cell_type": "code",
     "collapsed": false,
     "input": [],
     "language": "python",
     "metadata": {},
     "outputs": []
    }
   ],
   "metadata": {}
  }
 ]
}