{
 "cells": [
  {
   "cell_type": "code",
   "execution_count": 1,
   "metadata": {
    "collapsed": true
   },
   "outputs": [],
   "source": [
    "%matplotlib inline"
   ]
  },
  {
   "cell_type": "code",
   "execution_count": 12,
   "metadata": {
    "collapsed": false
   },
   "outputs": [],
   "source": [
    "import pandas as pd\n",
    "import numpy as np\n",
    "from sklearn.decomposition import PCA\n",
    "import matplotlib.pyplot as plt\n",
    "from mpl_toolkits.mplot3d import Axes3D\n",
    "from sklearn.preprocessing import StandardScaler"
   ]
  },
  {
   "cell_type": "code",
   "execution_count": 8,
   "metadata": {
    "collapsed": true
   },
   "outputs": [],
   "source": [
    "df = pd.read_excel('All_Isotopes_Generated.xlsx', 'Sheet1')"
   ]
  },
  {
   "cell_type": "code",
   "execution_count": 10,
   "metadata": {
    "collapsed": false
   },
   "outputs": [],
   "source": [
    "needed_isotopes = ['Reactor', 'Enrichment', 'u234', 'u235', 'u236', 'u238',\n",
    "                   'pu238', 'pu239', 'pu240', 'pu241', 'pu242']\n",
    "                   \n",
    "df = df[needed_isotopes]"
   ]
  },
  {
   "cell_type": "code",
   "execution_count": 18,
   "metadata": {
    "collapsed": true
   },
   "outputs": [],
   "source": [
    "# split data table into data X and class labels y\n",
    "x = df.ix[:,2:].values\n",
    "y = df.ix[:,0:2].values\n",
    "\n",
    "#X_std = StandardScaler().fit_transform(X)"
   ]
  },
  {
   "cell_type": "code",
   "execution_count": null,
   "metadata": {
    "collapsed": true
   },
   "outputs": [],
   "source": []
  },
  {
   "cell_type": "code",
   "execution_count": 4,
   "metadata": {
    "collapsed": false
   },
   "outputs": [],
   "source": [
    "ratios_combined_list = zip(df.u234, df.u235, df.u236, df.u238, df.pu238, df.pu239, df.pu240, df.pu241,\n",
    "   df.pu242)"
   ]
  },
  {
   "cell_type": "code",
   "execution_count": 11,
   "metadata": {
    "collapsed": false
   },
   "outputs": [
    {
     "name": "stdout",
     "output_type": "stream",
     "text": [
      "(u'BWR', 3.0)\n",
      "[  9.70399129e-01   2.92822247e-02   3.17773496e-04   7.67027925e-07\n",
      "   7.46656259e-08   2.09899862e-08   9.99505989e-09   3.68062012e-10\n",
      "   3.32613678e-12]\n",
      "[-0.00326192 -0.49804579  0.06582054 -0.86094789  0.0063833   0.0304547\n",
      "  0.06062719  0.02577865  0.03267585]\n",
      "\n",
      "(u'BWR', 3.5)\n",
      "[  9.72534457e-01   2.71379563e-02   3.26970649e-04   5.41673211e-07\n",
      "   4.32510270e-08   2.21131709e-08   8.55543415e-09   3.63034826e-10\n",
      "   4.64012271e-12]\n",
      "[-0.00362511 -0.59402011  0.08323662 -0.79594385  0.00657269  0.03618852\n",
      "  0.06127063  0.02716896  0.02875704]\n",
      "\n",
      "(u'BWR', 4.0)\n",
      "[  9.77319350e-01   2.23703826e-02   3.09834719e-04   3.56214052e-07\n",
      "   4.58085954e-08   2.24275178e-08   8.43010191e-09   2.35217620e-10\n",
      "   3.02897502e-12]\n",
      "[-0.0038799  -0.67187792  0.09850715 -0.729392    0.0065322   0.04200019\n",
      "  0.06035011  0.02797313  0.02484655]\n",
      "\n",
      "(u'BWR', 4.5)\n",
      "[  9.82370509e-01   1.73499537e-02   2.79253557e-04   2.07022528e-07\n",
      "   4.31213588e-08   2.41030578e-08   9.02839842e-09   9.73508876e-11\n",
      "   3.05303696e-12]\n",
      "[-0.00405506 -0.731826    0.11121718 -0.66714416  0.00634551  0.04755031\n",
      "  0.05839054  0.02827987  0.0212878 ]\n",
      "\n",
      "(u'BWR', 5.0)\n",
      "[  9.86595117e-01   1.31675672e-02   2.37143410e-04   9.47265518e-08\n",
      "   4.51366437e-08   2.72001997e-08   5.16058386e-09   6.53495086e-11\n",
      "   4.02850724e-12]\n",
      "[-0.00417753 -0.77678345  0.12158058 -0.61216002  0.00608434  0.05269495\n",
      "  0.05590407  0.02823347  0.01822388]\n",
      "\n",
      "(u'BWR', 5.5)\n",
      "[  9.89888778e-01   9.90784108e-03   2.03232244e-04   7.18848112e-08\n",
      "   4.39460480e-08   2.80069852e-08   4.56115386e-09   6.24760968e-11\n",
      "   2.45972286e-12]\n",
      "[-0.00426826 -0.81050625  0.13004155 -0.56476917  0.00579194  0.05741757\n",
      "  0.05321183  0.02792322  0.01564742]\n",
      "\n",
      "(u'RBMK', 1.8)\n",
      "[  9.82793288e-01   1.69551839e-02   2.51362902e-04   1.04200148e-07\n",
      "   4.71610875e-08   1.34839534e-08   5.77464327e-10   1.55550498e-11\n",
      "   7.09437700e-12]\n",
      "[-0.00271901 -0.6242566   0.09454711 -0.7651707   0.00247591  0.06112713\n",
      "  0.10242587  0.03253348  0.02405849]\n",
      "\n",
      "(u'RBMK', 1.8999999999999999)\n",
      "[  9.83725132e-01   1.60301949e-02   2.44484448e-04   1.06923664e-07\n",
      "   6.81546679e-08   1.12066774e-08   2.21699329e-09   1.69197219e-11\n",
      "   6.44724488e-12]\n",
      "[-0.00279558 -0.65551012  0.09989587 -0.73795666  0.00242827  0.06349838\n",
      "  0.1008103   0.03217008  0.02244741]\n",
      "\n",
      "(u'RBMK', 2.0)\n",
      "[  9.84943449e-01   1.48248139e-02   2.31583661e-04   8.04913636e-08\n",
      "   5.60745853e-08   1.45320057e-08   2.39887830e-09   1.43906766e-11\n",
      "   7.08583762e-12]\n",
      "[-0.00285642 -0.68263768  0.10466613 -0.71241857  0.00236939  0.0655871\n",
      "  0.0987745   0.03166956  0.02087522]\n",
      "\n",
      "(u'RBMK', 2.1000000000000001)\n",
      "[  9.86136136e-01   1.36495811e-02   2.14064651e-04   1.47040327e-07\n",
      "   5.82290699e-08   1.16254564e-08   1.70368424e-09   1.38742747e-11\n",
      "   4.55072792e-12]\n",
      "[-0.00290734 -0.70675053  0.10895094 -0.68804406  0.0023056   0.06747232\n",
      "  0.09653867  0.03109418  0.01938869]\n",
      "\n",
      "(u'RBMK', 2.2000000000000002)\n",
      "[  9.87272269e-01   1.25262992e-02   2.01257226e-04   1.08452217e-07\n",
      "   5.37325281e-08   1.04525674e-08   1.57037694e-09   1.35753283e-11\n",
      "   6.55840919e-12]\n",
      "[-0.00295087 -0.72904917  0.11296041 -0.66391089  0.00224118  0.06928737\n",
      "  0.09423347  0.03050412  0.01801865]\n",
      "\n",
      "(u'VVER', 3.2999999999999998)\n",
      "[  9.83248454e-01   1.66001255e-02   1.50885521e-04   4.64998497e-07\n",
      "   5.69957572e-08   9.89890963e-09   2.65351536e-09   1.84339286e-10\n",
      "   4.35379264e-12]\n",
      "[-0.00338579 -0.53859688  0.08221606 -0.82910025  0.00727451  0.0937835\n",
      "  0.06663821  0.04362914  0.02329833]\n",
      "\n",
      "(u'VVER', 3.6000000000000001)\n",
      "[  9.84599237e-01   1.52624718e-02   1.37786794e-04   4.24634280e-07\n",
      "   6.61534930e-08   1.11499564e-08   2.17674104e-09   1.68297592e-10\n",
      "   2.94110148e-12]\n",
      "[-0.00360741 -0.58587295  0.09216818 -0.79453126  0.00708066  0.1008769\n",
      "  0.06599568  0.04401921  0.02110836]\n",
      "\n",
      "(u'VVER', 3.8199999999999998)\n",
      "[  9.85508986e-01   1.43630281e-02   1.27583956e-04   3.25955604e-07\n",
      "   6.48944622e-08   8.69805273e-09   2.25632218e-09   1.29162942e-10\n",
      "   3.73659717e-12]\n",
      "[-0.00374399 -0.61047946  0.09772434 -0.77469113  0.00701906  0.10491642\n",
      "  0.064952    0.04394034  0.0199544 ]\n",
      "\n",
      "(u'VVER', 4.25)\n",
      "[  9.87884749e-01   1.19789685e-02   1.36074212e-04   1.13532681e-07\n",
      "   7.11670303e-08   1.45014449e-08   9.02618201e-09   1.25849412e-10\n",
      "   3.51314105e-12]\n",
      "[-0.00397005 -0.65821038  0.10832626 -0.7327831   0.00688053  0.10875004\n",
      "  0.06264242  0.04383286  0.01784309]\n",
      "\n",
      "(u'VVER', 4.3799999999999999)\n",
      "[  9.88414959e-01   1.14523061e-02   1.32522580e-04   1.16244187e-07\n",
      "   7.19416181e-08   1.50055457e-08   8.70726421e-09   1.15166862e-10\n",
      "   3.37500488e-12]\n",
      "[-0.00403421 -0.67223968  0.11132752 -0.71945439  0.00676689  0.10955259\n",
      "  0.06188267  0.04350785  0.01729548]\n",
      "\n"
     ]
    }
   ],
   "source": [
    "for ix, data in df.groupby(['Reactor', 'Enrichment']):\n",
    "    ratios_combined_list = zip(data.u234, data.u235, data.u236, data.u238,\n",
    "                               data.pu238, data.pu239, data.pu240, data.pu241,\n",
    "                               data.pu242)\n",
    "    X = np.array(ratios_combined_list)\n",
    "    pca = PCA(n_components=9)\n",
    "    pca.fit(X)\n",
    "    print ix\n",
    "    print(pca.explained_variance_ratio_) \n",
    "    print pca.components_[0]\n",
    "    print"
   ]
  },
  {
   "cell_type": "code",
   "execution_count": 5,
   "metadata": {
    "collapsed": false
   },
   "outputs": [
    {
     "name": "stdout",
     "output_type": "stream",
     "text": [
      "[  9.01027984e-01   9.64395049e-02   2.40316032e-03   1.03142470e-04\n",
      "   2.59570991e-05   1.21462288e-07   8.89443487e-08   3.97401214e-08\n",
      "   1.21046302e-09]\n"
     ]
    }
   ],
   "source": [
    "print(pca.explained_variance_ratio_) "
   ]
  },
  {
   "cell_type": "code",
   "execution_count": 6,
   "metadata": {
    "collapsed": false
   },
   "outputs": [
    {
     "name": "stdout",
     "output_type": "stream",
     "text": [
      "[-0.00365345 -0.60287184  0.09905926 -0.78068754  0.00699816  0.1037928\n",
      "  0.06419848  0.04371426  0.01980212]\n"
     ]
    }
   ],
   "source": [
    "print pca.components_[0]"
   ]
  },
  {
   "cell_type": "code",
   "execution_count": null,
   "metadata": {
    "collapsed": false
   },
   "outputs": [],
   "source": [
    "centers = [[1, 1], [-1, -1], [1, -1]]\n",
    "\n",
    "fig = plt.figure(1, figsize=(4, 3))\n",
    "plt.clf()\n",
    "ax = Axes3D(fig, rect=[0, 0, .95, 1], elev=48, azim=134)\n",
    "\n",
    "plt.cla()\n",
    "\n",
    "X = pca.transform(X)\n",
    "\n",
    "# for name, label in [('u234',0), ('u235',1), ('u236',2), ('u238',3),\n",
    "#                    ('pu238',4), ('pu239',5), ('pu240',6), ('pu241',7),\n",
    "#                     ('pu242',8)]:\n",
    "#     ax.text3D(X[y == label, 0].mean(),\n",
    "#               X[y == label, 1].mean() + 1.5,\n",
    "#               X[y == label, 2].mean(), name,\n",
    "#               horizontalalignment='center',\n",
    "#               bbox=dict(alpha=.5, edgecolor='w', facecolor='w'))\n",
    "# Reorder the labels to have colors matching the cluster results\n",
    "#y = np.choose(y, [1, 2, 0]).astype(np.float)\n",
    "# ax.scatter(X[:, 0], X[:, 1], X[:, 2],\n",
    "#            X[:, 3], X[:, 4], X[:, 5],\n",
    "#            X[:, 6], X[:, 7], X[:, 8],\n",
    "#            c=y, cmap=plt.cm.spectral)\n",
    "\n",
    "x_surf = [X[:, 0].min(), X[:, 0].max(),\n",
    "          X[:, 0].min(), X[:, 0].max()]\n",
    "y_surf = [X[:, 0].max(), X[:, 0].max(),\n",
    "          X[:, 0].min(), X[:, 0].min()]\n",
    "x_surf = np.array(x_surf)\n",
    "y_surf = np.array(y_surf)\n",
    "v0 = pca.transform(pca.components_[0])\n",
    "v0 /= v0[-1]\n",
    "v1 = pca.transform(pca.components_[1])\n",
    "v1 /= v1[-1]\n",
    "\n",
    "ax.w_xaxis.set_ticklabels([])\n",
    "ax.w_yaxis.set_ticklabels([])\n",
    "ax.w_zaxis.set_ticklabels([])\n",
    "\n",
    "plt.show()"
   ]
  },
  {
   "cell_type": "code",
   "execution_count": null,
   "metadata": {
    "collapsed": true
   },
   "outputs": [],
   "source": []
  }
 ],
 "metadata": {
  "kernelspec": {
   "display_name": "Python 2",
   "language": "python",
   "name": "python2"
  },
  "language_info": {
   "codemirror_mode": {
    "name": "ipython",
    "version": 2
   },
   "file_extension": ".py",
   "mimetype": "text/x-python",
   "name": "python",
   "nbconvert_exporter": "python",
   "pygments_lexer": "ipython2",
   "version": "2.7.9"
  }
 },
 "nbformat": 4,
 "nbformat_minor": 0
}
