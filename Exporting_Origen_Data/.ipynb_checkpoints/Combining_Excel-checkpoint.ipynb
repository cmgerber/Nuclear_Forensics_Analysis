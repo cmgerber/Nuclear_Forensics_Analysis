{
 "metadata": {
  "name": ""
 },
 "nbformat": 3,
 "nbformat_minor": 0,
 "worksheets": [
  {
   "cells": [
    {
     "cell_type": "heading",
     "level": 3,
     "metadata": {},
     "source": [
      "Combining Excels"
     ]
    },
    {
     "cell_type": "markdown",
     "metadata": {},
     "source": [
      "This notebook will combine all of the excel files that you create in the Combining CSV's notebook.\n",
      "It will also add reactor labels for the data."
     ]
    },
    {
     "cell_type": "code",
     "collapsed": false,
     "input": [
      "import pandas as pd\n",
      "import numpy as np"
     ],
     "language": "python",
     "metadata": {},
     "outputs": [],
     "prompt_number": 2
    },
    {
     "cell_type": "heading",
     "level": 4,
     "metadata": {},
     "source": [
      "Import"
     ]
    },
    {
     "cell_type": "markdown",
     "metadata": {},
     "source": [
      "Import all of the reactor data you want to include in the final summary excel.\n",
      "It is useful to name each DataFrame you create with the reactor type it is related to."
     ]
    },
    {
     "cell_type": "code",
     "collapsed": false,
     "input": [
      "df_BWR = pd.read_excel('../../Jimmy/BWR_Data/BWR_Combined_notsorted.xlsx', 'Sheet1')\n",
      "df_VVER = pd.read_excel('../../Jimmy/VVER_Data/VVER_Combined_notsorted.xlsx', 'Sheet1')\n",
      "df_RBMK = pd.read_excel('../../Jimmy/RBMK_Data/RBMK_Combined_notsorted.xlsx', 'Sheet1')"
     ],
     "language": "python",
     "metadata": {},
     "outputs": [],
     "prompt_number": 3
    },
    {
     "cell_type": "markdown",
     "metadata": {},
     "source": [
      "Create an overall data frame which each of the reactor data frames will be appended into.\n",
      "Make sure to append all of the DataFrames that you created while you were importing your excel files."
     ]
    },
    {
     "cell_type": "code",
     "collapsed": false,
     "input": [
      "df_tot = df_BWR.append(df_VVER)\n",
      "df_tot = df_tot.append(df_RBMK)"
     ],
     "language": "python",
     "metadata": {},
     "outputs": [],
     "prompt_number": 4
    },
    {
     "cell_type": "markdown",
     "metadata": {},
     "source": [
      "This allows you to see the data at the end of your combined DataFrame."
     ]
    },
    {
     "cell_type": "code",
     "collapsed": false,
     "input": [
      "df_tot.tail()"
     ],
     "language": "python",
     "metadata": {},
     "outputs": [
      {
       "html": [
        "<div style=\"max-height:1000px;max-width:1500px;overflow:auto;\">\n",
        "<table border=\"1\" class=\"dataframe\">\n",
        "  <thead>\n",
        "    <tr style=\"text-align: right;\">\n",
        "      <th></th>\n",
        "      <th>pu240/pu239</th>\n",
        "      <th>pu238/pu239</th>\n",
        "      <th>pu242/pu239</th>\n",
        "      <th>pu241/pu239</th>\n",
        "    </tr>\n",
        "  </thead>\n",
        "  <tbody>\n",
        "    <tr>\n",
        "      <th>120</th>\n",
        "      <td> 0.738669</td>\n",
        "      <td> 0.014700</td>\n",
        "      <td> 0.117027</td>\n",
        "      <td> 0.227807</td>\n",
        "    </tr>\n",
        "    <tr>\n",
        "      <th>121</th>\n",
        "      <td> 0.771872</td>\n",
        "      <td> 0.016599</td>\n",
        "      <td> 0.132420</td>\n",
        "      <td> 0.238716</td>\n",
        "    </tr>\n",
        "    <tr>\n",
        "      <th>122</th>\n",
        "      <td> 0.804588</td>\n",
        "      <td> 0.018632</td>\n",
        "      <td> 0.148873</td>\n",
        "      <td> 0.249201</td>\n",
        "    </tr>\n",
        "    <tr>\n",
        "      <th>123</th>\n",
        "      <td> 0.836140</td>\n",
        "      <td> 0.020789</td>\n",
        "      <td> 0.166407</td>\n",
        "      <td> 0.259179</td>\n",
        "    </tr>\n",
        "    <tr>\n",
        "      <th>124</th>\n",
        "      <td> 0.866612</td>\n",
        "      <td> 0.023055</td>\n",
        "      <td> 0.184891</td>\n",
        "      <td> 0.268547</td>\n",
        "    </tr>\n",
        "  </tbody>\n",
        "</table>\n",
        "</div>"
       ],
       "metadata": {},
       "output_type": "pyout",
       "prompt_number": 5,
       "text": [
        "     pu240/pu239  pu238/pu239  pu242/pu239  pu241/pu239\n",
        "120     0.738669     0.014700     0.117027     0.227807\n",
        "121     0.771872     0.016599     0.132420     0.238716\n",
        "122     0.804588     0.018632     0.148873     0.249201\n",
        "123     0.836140     0.020789     0.166407     0.259179\n",
        "124     0.866612     0.023055     0.184891     0.268547"
       ]
      }
     ],
     "prompt_number": 5
    },
    {
     "cell_type": "heading",
     "level": 4,
     "metadata": {},
     "source": [
      "Create Reactor Column"
     ]
    },
    {
     "cell_type": "markdown",
     "metadata": {},
     "source": [
      "To create your reactor column change the string in the append line to the reactor name."
     ]
    },
    {
     "cell_type": "code",
     "collapsed": false,
     "input": [
      "reactor_list = []\n",
      "#Change range here\n",
      "for y in range(len(df_BWR):\n",
      "    #Change string here\n",
      "    reactor_list.append('BWR')\n",
      "    \n",
      "for y in range(len(df_VVER)):\n",
      "    reactor_list.append('VVER')\n",
      "    \n",
      "for y in range(df_RBMK):\n",
      "    reactor_list.append('RBMK')\n",
      "print reactor_list"
     ],
     "language": "python",
     "metadata": {},
     "outputs": [
      {
       "output_type": "stream",
       "stream": "stdout",
       "text": [
        "['BWR', 'BWR', 'BWR', 'BWR', 'BWR', 'BWR', 'BWR', 'BWR', 'BWR', 'BWR', 'BWR', 'BWR', 'BWR', 'BWR', 'BWR', 'BWR', 'BWR', 'BWR', 'BWR', 'BWR', 'BWR', 'BWR', 'BWR', 'BWR', 'BWR', 'BWR', 'BWR', 'BWR', 'BWR', 'BWR', 'BWR', 'BWR', 'BWR', 'BWR', 'BWR', 'BWR', 'BWR', 'BWR', 'BWR', 'BWR', 'BWR', 'BWR', 'BWR', 'BWR', 'BWR', 'BWR', 'BWR', 'BWR', 'BWR', 'BWR', 'BWR', 'BWR', 'BWR', 'BWR', 'BWR', 'BWR', 'BWR', 'BWR', 'BWR', 'BWR', 'BWR', 'BWR', 'BWR', 'BWR', 'BWR', 'BWR', 'BWR', 'BWR', 'BWR', 'BWR', 'BWR', 'BWR', 'BWR', 'BWR', 'BWR', 'BWR', 'BWR', 'BWR', 'BWR', 'BWR', 'BWR', 'BWR', 'BWR', 'BWR', 'BWR', 'BWR', 'BWR', 'BWR', 'BWR', 'BWR', 'BWR', 'BWR', 'BWR', 'BWR', 'BWR', 'BWR', 'BWR', 'BWR', 'BWR', 'BWR', 'BWR', 'BWR', 'BWR', 'BWR', 'BWR', 'BWR', 'BWR', 'BWR', 'BWR', 'BWR', 'BWR', 'BWR', 'BWR', 'BWR', 'BWR', 'BWR', 'BWR', 'BWR', 'BWR', 'BWR', 'BWR', 'BWR', 'BWR', 'BWR', 'BWR', 'BWR', 'BWR', 'BWR', 'BWR', 'BWR', 'BWR', 'BWR', 'BWR', 'BWR', 'BWR', 'BWR', 'BWR', 'BWR', 'BWR', 'BWR', 'BWR', 'BWR', 'BWR', 'BWR', 'BWR', 'BWR', 'BWR', 'BWR', 'BWR', 'BWR', 'BWR', 'BWR', 'BWR', 'BWR', 'BWR', 'BWR', 'BWR', 'BWR', 'BWR', 'BWR', 'BWR', 'BWR', 'BWR', 'BWR', 'BWR', 'BWR', 'BWR', 'BWR', 'BWR', 'BWR', 'BWR', 'BWR', 'BWR', 'BWR', 'BWR', 'BWR', 'BWR', 'BWR', 'BWR', 'BWR', 'BWR', 'BWR', 'BWR', 'BWR', 'BWR', 'BWR', 'BWR', 'BWR', 'BWR', 'BWR', 'BWR', 'BWR', 'BWR', 'BWR', 'BWR', 'BWR', 'BWR', 'BWR', 'BWR', 'BWR', 'BWR', 'BWR', 'BWR', 'BWR', 'BWR', 'BWR', 'BWR', 'BWR', 'BWR', 'BWR', 'BWR', 'BWR', 'BWR', 'BWR', 'BWR', 'BWR', 'BWR', 'BWR', 'BWR', 'BWR', 'BWR', 'BWR', 'BWR', 'BWR', 'BWR', 'BWR', 'BWR', 'BWR', 'BWR', 'BWR', 'BWR', 'BWR', 'BWR', 'BWR', 'BWR', 'BWR', 'BWR', 'BWR', 'BWR', 'BWR', 'BWR', 'BWR', 'BWR', 'BWR', 'BWR', 'BWR', 'BWR', 'BWR', 'BWR', 'BWR', 'BWR', 'BWR', 'BWR', 'BWR', 'BWR', 'BWR', 'BWR', 'BWR', 'BWR', 'BWR', 'BWR', 'BWR', 'BWR', 'BWR', 'BWR', 'BWR', 'BWR', 'BWR', 'BWR', 'BWR', 'BWR', 'BWR', 'BWR', 'BWR', 'BWR', 'BWR', 'BWR', 'BWR', 'BWR', 'BWR', 'BWR', 'BWR', 'BWR', 'BWR', 'BWR', 'BWR', 'BWR', 'BWR', 'BWR', 'BWR', 'BWR', 'BWR', 'BWR', 'BWR', 'BWR', 'BWR', 'BWR', 'BWR', 'BWR', 'BWR', 'BWR', 'BWR', 'BWR', 'BWR', 'BWR', 'BWR', 'BWR', 'BWR', 'BWR', 'BWR', 'BWR', 'BWR', 'BWR', 'BWR', 'BWR', 'BWR', 'BWR', 'BWR', 'BWR', 'BWR', 'BWR', 'BWR', 'BWR', 'BWR', 'BWR', 'BWR', 'BWR', 'BWR', 'BWR', 'BWR', 'BWR', 'BWR', 'BWR', 'BWR', 'BWR', 'BWR', 'BWR', 'BWR', 'BWR', 'BWR', 'BWR', 'BWR', 'BWR', 'BWR', 'BWR', 'BWR', 'BWR', 'BWR', 'BWR', 'BWR', 'BWR', 'BWR', 'BWR', 'BWR', 'BWR', 'BWR', 'BWR', 'BWR', 'BWR', 'BWR', 'VVER', 'VVER', 'VVER', 'VVER', 'VVER', 'VVER', 'VVER', 'VVER', 'VVER', 'VVER', 'VVER', 'VVER', 'VVER', 'VVER', 'VVER', 'VVER', 'VVER', 'VVER', 'VVER', 'VVER', 'VVER', 'VVER', 'VVER', 'VVER', 'VVER', 'VVER', 'VVER', 'VVER', 'VVER', 'VVER', 'VVER', 'VVER', 'VVER', 'VVER', 'VVER', 'VVER', 'VVER', 'VVER', 'VVER', 'VVER', 'VVER', 'VVER', 'VVER', 'VVER', 'VVER', 'VVER', 'VVER', 'VVER', 'VVER', 'VVER', 'VVER', 'VVER', 'VVER', 'VVER', 'VVER', 'VVER', 'VVER', 'VVER', 'VVER', 'VVER', 'VVER', 'VVER', 'VVER', 'VVER', 'VVER', 'VVER', 'VVER', 'VVER', 'VVER', 'VVER', 'VVER', 'VVER', 'VVER', 'VVER', 'VVER', 'VVER', 'VVER', 'VVER', 'VVER', 'VVER', 'VVER', 'VVER', 'VVER', 'VVER', 'VVER', 'VVER', 'VVER', 'VVER', 'VVER', 'VVER', 'VVER', 'VVER', 'VVER', 'VVER', 'VVER', 'VVER', 'VVER', 'VVER', 'VVER', 'VVER', 'VVER', 'VVER', 'VVER', 'VVER', 'VVER', 'VVER', 'VVER', 'VVER', 'VVER', 'VVER', 'VVER', 'VVER', 'VVER', 'VVER', 'VVER', 'VVER', 'VVER', 'VVER', 'VVER', 'VVER', 'VVER', 'VVER', 'VVER', 'VVER', 'VVER', 'VVER', 'VVER', 'VVER', 'VVER', 'VVER', 'VVER', 'VVER', 'VVER', 'VVER', 'VVER', 'VVER', 'VVER', 'VVER', 'VVER', 'VVER', 'VVER', 'VVER', 'VVER', 'VVER', 'VVER', 'VVER', 'VVER', 'VVER', 'VVER', 'VVER', 'VVER', 'VVER', 'VVER', 'VVER', 'VVER', 'VVER', 'VVER', 'VVER', 'VVER', 'VVER', 'VVER', 'VVER', 'VVER', 'VVER', 'VVER', 'VVER', 'VVER', 'VVER', 'VVER', 'VVER', 'VVER', 'VVER', 'VVER', 'VVER', 'VVER', 'VVER', 'VVER', 'VVER', 'VVER', 'VVER', 'VVER', 'VVER', 'VVER', 'VVER', 'VVER', 'VVER', 'VVER', 'VVER', 'VVER', 'VVER', 'VVER', 'VVER', 'VVER', 'VVER', 'VVER', 'VVER', 'VVER', 'VVER', 'VVER', 'VVER', 'VVER', 'VVER', 'VVER', 'VVER', 'VVER', 'VVER', 'VVER', 'VVER', 'VVER', 'VVER', 'VVER', 'VVER', 'VVER', 'VVER', 'VVER', 'VVER', 'VVER', 'VVER', 'VVER', 'VVER', 'VVER', 'VVER', 'VVER', 'VVER', 'VVER', 'VVER', 'VVER', 'VVER', 'VVER', 'VVER', 'VVER', 'VVER', 'VVER', 'VVER', 'VVER', 'VVER', 'VVER', 'VVER', 'VVER', 'VVER', 'VVER', 'VVER', 'VVER', 'VVER', 'VVER', 'VVER', 'VVER', 'VVER', 'VVER', 'VVER', 'RBMK', 'RBMK', 'RBMK', 'RBMK', 'RBMK', 'RBMK', 'RBMK', 'RBMK', 'RBMK', 'RBMK', 'RBMK', 'RBMK', 'RBMK', 'RBMK', 'RBMK', 'RBMK', 'RBMK', 'RBMK', 'RBMK', 'RBMK', 'RBMK', 'RBMK', 'RBMK', 'RBMK', 'RBMK', 'RBMK', 'RBMK', 'RBMK', 'RBMK', 'RBMK', 'RBMK', 'RBMK', 'RBMK', 'RBMK', 'RBMK', 'RBMK', 'RBMK', 'RBMK', 'RBMK', 'RBMK', 'RBMK', 'RBMK', 'RBMK', 'RBMK', 'RBMK', 'RBMK', 'RBMK', 'RBMK', 'RBMK', 'RBMK', 'RBMK', 'RBMK', 'RBMK', 'RBMK', 'RBMK', 'RBMK', 'RBMK', 'RBMK', 'RBMK', 'RBMK', 'RBMK', 'RBMK', 'RBMK', 'RBMK', 'RBMK', 'RBMK', 'RBMK', 'RBMK', 'RBMK', 'RBMK', 'RBMK', 'RBMK', 'RBMK', 'RBMK', 'RBMK', 'RBMK', 'RBMK', 'RBMK', 'RBMK', 'RBMK', 'RBMK', 'RBMK', 'RBMK', 'RBMK', 'RBMK', 'RBMK', 'RBMK', 'RBMK', 'RBMK', 'RBMK', 'RBMK', 'RBMK', 'RBMK', 'RBMK', 'RBMK', 'RBMK', 'RBMK', 'RBMK', 'RBMK', 'RBMK', 'RBMK', 'RBMK', 'RBMK', 'RBMK', 'RBMK', 'RBMK', 'RBMK', 'RBMK', 'RBMK', 'RBMK', 'RBMK', 'RBMK', 'RBMK', 'RBMK', 'RBMK', 'RBMK', 'RBMK', 'RBMK', 'RBMK', 'RBMK', 'RBMK', 'RBMK', 'RBMK', 'RBMK', 'RBMK']\n"
       ]
      }
     ],
     "prompt_number": 18
    },
    {
     "cell_type": "markdown",
     "metadata": {},
     "source": [
      "Check to make sure that the length of the list of reactor names you just made matches the length of your DataFrame."
     ]
    },
    {
     "cell_type": "code",
     "collapsed": false,
     "input": [
      "print 'list', len(reactor_list)\n",
      "print 'df', len(df_tot)"
     ],
     "language": "python",
     "metadata": {},
     "outputs": [
      {
       "output_type": "stream",
       "stream": "stdout",
       "text": [
        "list 735\n",
        "df 735\n"
       ]
      }
     ],
     "prompt_number": 19
    },
    {
     "cell_type": "markdown",
     "metadata": {},
     "source": [
      "Create a new column with the reactor names in it and then check to make sure it added to the DataFrame correctly."
     ]
    },
    {
     "cell_type": "code",
     "collapsed": false,
     "input": [
      "df_tot['reactor'] = reactor_list"
     ],
     "language": "python",
     "metadata": {},
     "outputs": [],
     "prompt_number": 20
    },
    {
     "cell_type": "code",
     "collapsed": false,
     "input": [
      "df_tot.tail()"
     ],
     "language": "python",
     "metadata": {},
     "outputs": [
      {
       "html": [
        "<div style=\"max-height:1000px;max-width:1500px;overflow:auto;\">\n",
        "<table border=\"1\" class=\"dataframe\">\n",
        "  <thead>\n",
        "    <tr style=\"text-align: right;\">\n",
        "      <th></th>\n",
        "      <th>pu240/pu239</th>\n",
        "      <th>pu238/pu239</th>\n",
        "      <th>pu242/pu239</th>\n",
        "      <th>pu241/pu239</th>\n",
        "      <th>reactor</th>\n",
        "    </tr>\n",
        "  </thead>\n",
        "  <tbody>\n",
        "    <tr>\n",
        "      <th>120</th>\n",
        "      <td> 0.738669</td>\n",
        "      <td> 0.014700</td>\n",
        "      <td> 0.117027</td>\n",
        "      <td> 0.227807</td>\n",
        "      <td> RBMK</td>\n",
        "    </tr>\n",
        "    <tr>\n",
        "      <th>121</th>\n",
        "      <td> 0.771872</td>\n",
        "      <td> 0.016599</td>\n",
        "      <td> 0.132420</td>\n",
        "      <td> 0.238716</td>\n",
        "      <td> RBMK</td>\n",
        "    </tr>\n",
        "    <tr>\n",
        "      <th>122</th>\n",
        "      <td> 0.804588</td>\n",
        "      <td> 0.018632</td>\n",
        "      <td> 0.148873</td>\n",
        "      <td> 0.249201</td>\n",
        "      <td> RBMK</td>\n",
        "    </tr>\n",
        "    <tr>\n",
        "      <th>123</th>\n",
        "      <td> 0.836140</td>\n",
        "      <td> 0.020789</td>\n",
        "      <td> 0.166407</td>\n",
        "      <td> 0.259179</td>\n",
        "      <td> RBMK</td>\n",
        "    </tr>\n",
        "    <tr>\n",
        "      <th>124</th>\n",
        "      <td> 0.866612</td>\n",
        "      <td> 0.023055</td>\n",
        "      <td> 0.184891</td>\n",
        "      <td> 0.268547</td>\n",
        "      <td> RBMK</td>\n",
        "    </tr>\n",
        "  </tbody>\n",
        "</table>\n",
        "</div>"
       ],
       "metadata": {},
       "output_type": "pyout",
       "prompt_number": 21,
       "text": [
        "     pu240/pu239  pu238/pu239  pu242/pu239  pu241/pu239 reactor\n",
        "120     0.738669     0.014700     0.117027     0.227807    RBMK\n",
        "121     0.771872     0.016599     0.132420     0.238716    RBMK\n",
        "122     0.804588     0.018632     0.148873     0.249201    RBMK\n",
        "123     0.836140     0.020789     0.166407     0.259179    RBMK\n",
        "124     0.866612     0.023055     0.184891     0.268547    RBMK"
       ]
      }
     ],
     "prompt_number": 21
    },
    {
     "cell_type": "markdown",
     "metadata": {},
     "source": [
      "Change the order of the columns so that the reactor column is first."
     ]
    },
    {
     "cell_type": "code",
     "collapsed": false,
     "input": [
      "col = list(df_tot.columns)\n",
      "col = col[-1:] + col[-2:-1] + col[:-2]\n",
      "print col\n",
      "df_tot = df_tot[col]"
     ],
     "language": "python",
     "metadata": {},
     "outputs": [
      {
       "output_type": "stream",
       "stream": "stdout",
       "text": [
        "['reactor', u'pu240/pu239', u'pu238/pu239', u'pu242/pu239', u'pu241/pu239']\n"
       ]
      }
     ],
     "prompt_number": 22
    },
    {
     "cell_type": "code",
     "collapsed": false,
     "input": [
      "df_tot.tail()"
     ],
     "language": "python",
     "metadata": {},
     "outputs": [
      {
       "html": [
        "<div style=\"max-height:1000px;max-width:1500px;overflow:auto;\">\n",
        "<table border=\"1\" class=\"dataframe\">\n",
        "  <thead>\n",
        "    <tr style=\"text-align: right;\">\n",
        "      <th></th>\n",
        "      <th>reactor</th>\n",
        "      <th>pu240/pu239</th>\n",
        "      <th>pu238/pu239</th>\n",
        "      <th>pu242/pu239</th>\n",
        "      <th>pu241/pu239</th>\n",
        "    </tr>\n",
        "  </thead>\n",
        "  <tbody>\n",
        "    <tr>\n",
        "      <th>120</th>\n",
        "      <td> RBMK</td>\n",
        "      <td> 0.738669</td>\n",
        "      <td> 0.014700</td>\n",
        "      <td> 0.117027</td>\n",
        "      <td> 0.227807</td>\n",
        "    </tr>\n",
        "    <tr>\n",
        "      <th>121</th>\n",
        "      <td> RBMK</td>\n",
        "      <td> 0.771872</td>\n",
        "      <td> 0.016599</td>\n",
        "      <td> 0.132420</td>\n",
        "      <td> 0.238716</td>\n",
        "    </tr>\n",
        "    <tr>\n",
        "      <th>122</th>\n",
        "      <td> RBMK</td>\n",
        "      <td> 0.804588</td>\n",
        "      <td> 0.018632</td>\n",
        "      <td> 0.148873</td>\n",
        "      <td> 0.249201</td>\n",
        "    </tr>\n",
        "    <tr>\n",
        "      <th>123</th>\n",
        "      <td> RBMK</td>\n",
        "      <td> 0.836140</td>\n",
        "      <td> 0.020789</td>\n",
        "      <td> 0.166407</td>\n",
        "      <td> 0.259179</td>\n",
        "    </tr>\n",
        "    <tr>\n",
        "      <th>124</th>\n",
        "      <td> RBMK</td>\n",
        "      <td> 0.866612</td>\n",
        "      <td> 0.023055</td>\n",
        "      <td> 0.184891</td>\n",
        "      <td> 0.268547</td>\n",
        "    </tr>\n",
        "  </tbody>\n",
        "</table>\n",
        "</div>"
       ],
       "metadata": {},
       "output_type": "pyout",
       "prompt_number": 24,
       "text": [
        "    reactor  pu240/pu239  pu238/pu239  pu242/pu239  pu241/pu239\n",
        "120    RBMK     0.738669     0.014700     0.117027     0.227807\n",
        "121    RBMK     0.771872     0.016599     0.132420     0.238716\n",
        "122    RBMK     0.804588     0.018632     0.148873     0.249201\n",
        "123    RBMK     0.836140     0.020789     0.166407     0.259179\n",
        "124    RBMK     0.866612     0.023055     0.184891     0.268547"
       ]
      }
     ],
     "prompt_number": 24
    },
    {
     "cell_type": "markdown",
     "metadata": {},
     "source": [
      "Use this to make sure specific groups of reactors types worked. You can look at different reactors by switching the string in the get_group().\n",
      "you can look at .head() and .tail() to make sure the indexes match up."
     ]
    },
    {
     "cell_type": "code",
     "collapsed": false,
     "input": [
      "grouped = df_tot.groupby('reactor')\n",
      "grouped.get_group('BWR').head()"
     ],
     "language": "python",
     "metadata": {},
     "outputs": [
      {
       "html": [
        "<div style=\"max-height:1000px;max-width:1500px;overflow:auto;\">\n",
        "<table border=\"1\" class=\"dataframe\">\n",
        "  <thead>\n",
        "    <tr style=\"text-align: right;\">\n",
        "      <th></th>\n",
        "      <th>reactor</th>\n",
        "      <th>pu240/pu239</th>\n",
        "      <th>pu238/pu239</th>\n",
        "      <th>pu242/pu239</th>\n",
        "      <th>pu241/pu239</th>\n",
        "    </tr>\n",
        "  </thead>\n",
        "  <tbody>\n",
        "    <tr>\n",
        "      <th>0</th>\n",
        "      <td> BWR</td>\n",
        "      <td> 0.022653</td>\n",
        "      <td> 0.000043</td>\n",
        "      <td> 0.000010</td>\n",
        "      <td> 0.001188</td>\n",
        "    </tr>\n",
        "    <tr>\n",
        "      <th>1</th>\n",
        "      <td> BWR</td>\n",
        "      <td> 0.044642</td>\n",
        "      <td> 0.000146</td>\n",
        "      <td> 0.000083</td>\n",
        "      <td> 0.004734</td>\n",
        "    </tr>\n",
        "    <tr>\n",
        "      <th>2</th>\n",
        "      <td> BWR</td>\n",
        "      <td> 0.065284</td>\n",
        "      <td> 0.000288</td>\n",
        "      <td> 0.000278</td>\n",
        "      <td> 0.010166</td>\n",
        "    </tr>\n",
        "    <tr>\n",
        "      <th>3</th>\n",
        "      <td> BWR</td>\n",
        "      <td> 0.084764</td>\n",
        "      <td> 0.000463</td>\n",
        "      <td> 0.000634</td>\n",
        "      <td> 0.016902</td>\n",
        "    </tr>\n",
        "    <tr>\n",
        "      <th>4</th>\n",
        "      <td> BWR</td>\n",
        "      <td> 0.103365</td>\n",
        "      <td> 0.000671</td>\n",
        "      <td> 0.001169</td>\n",
        "      <td> 0.024433</td>\n",
        "    </tr>\n",
        "  </tbody>\n",
        "</table>\n",
        "</div>"
       ],
       "metadata": {},
       "output_type": "pyout",
       "prompt_number": 25,
       "text": [
        "  reactor  pu240/pu239  pu238/pu239  pu242/pu239  pu241/pu239\n",
        "0     BWR     0.022653     0.000043     0.000010     0.001188\n",
        "1     BWR     0.044642     0.000146     0.000083     0.004734\n",
        "2     BWR     0.065284     0.000288     0.000278     0.010166\n",
        "3     BWR     0.084764     0.000463     0.000634     0.016902\n",
        "4     BWR     0.103365     0.000671     0.001169     0.024433"
       ]
      }
     ],
     "prompt_number": 25
    },
    {
     "cell_type": "heading",
     "level": 4,
     "metadata": {},
     "source": [
      "Export to excel"
     ]
    },
    {
     "cell_type": "markdown",
     "metadata": {},
     "source": [
      "Export the DataFrame to an excel sheet. index = False means that the index column will not be exported."
     ]
    },
    {
     "cell_type": "code",
     "collapsed": false,
     "input": [
      "df_tot.to_excel('VVER_RBMK_BWR_generated.xlsx', 'Sheet1', index = False)"
     ],
     "language": "python",
     "metadata": {},
     "outputs": [],
     "prompt_number": 26
    },
    {
     "cell_type": "code",
     "collapsed": false,
     "input": [],
     "language": "python",
     "metadata": {},
     "outputs": []
    }
   ],
   "metadata": {}
  }
 ]
}