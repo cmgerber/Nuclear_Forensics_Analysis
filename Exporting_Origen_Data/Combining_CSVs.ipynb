{
 "metadata": {
  "name": ""
 },
 "nbformat": 3,
 "nbformat_minor": 0,
 "worksheets": [
  {
   "cells": [
    {
     "cell_type": "heading",
     "level": 2,
     "metadata": {},
     "source": [
      "Combining CSV's For Analysis"
     ]
    },
    {
     "cell_type": "raw",
     "metadata": {},
     "source": [
      "This notebook combines all of the compiled csv files you created from running Convert_to_csv_batch.py for a batch of reactor .out files.\n",
      "It combines all of the files and saves them into an excel file. There is another notebook that follows this one which will combine all of\n",
      "excel files you create if you are working with more than one reactor type."
     ]
    },
    {
     "cell_type": "code",
     "collapsed": false,
     "input": [
      "import pandas as pd\n",
      "import numpy as np"
     ],
     "language": "python",
     "metadata": {},
     "outputs": [
      {
       "output_type": "stream",
       "stream": "stderr",
       "text": [
        "/Users/colingerber/anaconda/lib/python2.7/site-packages/pytz-2013b-py2.7.egg/pytz/__init__.py:35: UserWarning: Module argparse was already imported from /Users/colingerber/anaconda/python.app/Contents/lib/python2.7/argparse.pyc, but /Users/colingerber/anaconda/lib/python2.7/site-packages is being added to sys.path\n",
        "  from pkg_resources import resource_stream\n"
       ]
      }
     ],
     "prompt_number": 1
    },
    {
     "cell_type": "heading",
     "level": 3,
     "metadata": {},
     "source": [
      "Read CSV's in here:"
     ]
    },
    {
     "cell_type": "heading",
     "level": 4,
     "metadata": {},
     "source": [
      "Update the paths of the read_csv() to match the paths of where your csv's are stored."
     ]
    },
    {
     "cell_type": "code",
     "collapsed": false,
     "input": [
      "df30 = pd.read_csv('3.0/compiled_export.csv')\n",
      "df35 = pd.read_csv('3.5/compiled_export.csv')\n",
      "df40 = pd.read_csv('4.0/compiled_export.csv')\n",
      "df45 = pd.read_csv('4.5/compiled_export.csv')\n",
      "df50 = pd.read_csv('5.0/compiled_export.csv')\n",
      "df55 = pd.read_csv('5.5/compiled_export.csv')"
     ],
     "language": "python",
     "metadata": {},
     "outputs": [],
     "prompt_number": 2
    },
    {
     "cell_type": "raw",
     "metadata": {},
     "source": [
      "Manual input\n",
      "\n",
      "- num_files: enter the number of out files there were per enrichment\n",
      "- df_list: enter a list of the dataframe names (do not put them in as strings, this is a list of objects)\n",
      "- enrichment_list: enter a list of the enrichments that you used"
     ]
    },
    {
     "cell_type": "code",
     "collapsed": false,
     "input": [
      "num_files = 60\n",
      "df_list = [df30, df35, df40, df45, df50, df55]\n",
      "enrichment_list = [3.0, 3.5, 4.0, 4.5, 5.0, 5.5]"
     ],
     "language": "python",
     "metadata": {},
     "outputs": [],
     "prompt_number": 3
    },
    {
     "cell_type": "heading",
     "level": 4,
     "metadata": {},
     "source": [
      "Enter the ratios you used into the columns list."
     ]
    },
    {
     "cell_type": "code",
     "collapsed": false,
     "input": [
      "columns = ['pu240/pu239', 'pu238/pu239', 'pu242/pu239', 'pu241/pu239']\n",
      "def column_gen():\n",
      "    for item in columns:\n",
      "        yield item"
     ],
     "language": "python",
     "metadata": {},
     "outputs": [],
     "prompt_number": 4
    },
    {
     "cell_type": "heading",
     "level": 4,
     "metadata": {},
     "source": [
      "Update Ranges"
     ]
    },
    {
     "cell_type": "raw",
     "metadata": {},
     "source": [
      "Update the range based on how much data you have.\n",
      "For example if you have 50 data points per column for each file and 5 files then you would \n",
      "set the range for 250.\n",
      "\n",
      "You then create an empty pandas DataFrame that you will be appending to."
     ]
    },
    {
     "cell_type": "code",
     "collapsed": false,
     "input": [
      "# index = range((num_files*len(df_list)))\n",
      "# df_tot = pd.DataFrame(index = index, columns = columns)\n",
      "# df_tot.head()"
     ],
     "language": "python",
     "metadata": {},
     "outputs": [],
     "prompt_number": 5
    },
    {
     "cell_type": "raw",
     "metadata": {},
     "source": [
      "Change the range to the amount of data you have per file.\n",
      "For example if you have 50 data points per column for each file, change the range to 50.\n",
      "Also update the temp_list[] to reflect the change in the range.\n",
      "So for a range of 50 the first temp_list would be temp_list[0:50] and the second would be temp_list[50:100].\n",
      "\n",
      "There should be one copy of the next chunk of code for each\n",
      "csv file you imported. If there are two many delete the extras.\n",
      "If there are to few copy new ones and update them. Make sure to update\n",
      "the names of the data frame. For example you would change df30 to the\n",
      "name of the extra df and then update the df30_new's to reflect that."
     ]
    },
    {
     "cell_type": "code",
     "collapsed": false,
     "input": [
      "#looping through process\n",
      "\n",
      "for num in range(len(df_list)):\n",
      "    \n",
      "    temp_list = []\n",
      "    new_col = column_gen()\n",
      "    \n",
      "    #converts all the values in the df to float\n",
      "    #removes all strings and add all values to list\n",
      "    for item in list(df_list[num]['pu240/pu239']):\n",
      "        try:\n",
      "            float(item)\n",
      "            temp_list.append(item)\n",
      "        except:\n",
      "            continue\n",
      "            \n",
      "    #the index of the temp dadtaframe is the amount of out files \n",
      "    #for each enrichment.\n",
      "    temp_index = range(num_files)\n",
      "\n",
      "    \n",
      "    df_temp = pd.DataFrame(index = temp_index, columns = columns)\n",
      "    \n",
      "    #change the temp lists here\n",
      "    df_temp[next(new_col)] = temp_list[0:num_files]\n",
      "    df_temp[next(new_col)] = temp_list[num_files:(num_files*2)]\n",
      "    df_temp[next(new_col)] = temp_list[(num_files*2):(num_files*3)]\n",
      "    df_temp[next(new_col)] = temp_list[(num_files*3):(num_files*4)]\n",
      "    \n",
      "    #create a column for the enrichment\n",
      "    enrich = enrichment_list[num]\n",
      "    df_temp['enrichment'] = [enrich]*num_files\n",
      "    \n",
      "    try:\n",
      "        df_tot\n",
      "    except:\n",
      "        df_tot = df_temp\n",
      "    else:\n",
      "        #append to the total dataframe\n",
      "        df_tot = df_tot.append(df_temp)"
     ],
     "language": "python",
     "metadata": {},
     "outputs": [],
     "prompt_number": 7
    },
    {
     "cell_type": "raw",
     "metadata": {},
     "source": [
      "A check to make sure the stats on the dataframe make sense (especially length)"
     ]
    },
    {
     "cell_type": "code",
     "collapsed": false,
     "input": [
      "df_tot.describe()"
     ],
     "language": "python",
     "metadata": {},
     "outputs": [
      {
       "html": [
        "<div style=\"max-height:1000px;max-width:1500px;overflow:auto;\">\n",
        "<table border=\"1\" class=\"dataframe\">\n",
        "  <thead>\n",
        "    <tr style=\"text-align: right;\">\n",
        "      <th></th>\n",
        "      <th>enrichment</th>\n",
        "    </tr>\n",
        "  </thead>\n",
        "  <tbody>\n",
        "    <tr>\n",
        "      <th>count</th>\n",
        "      <td> 360.000000</td>\n",
        "    </tr>\n",
        "    <tr>\n",
        "      <th>mean</th>\n",
        "      <td>   4.250000</td>\n",
        "    </tr>\n",
        "    <tr>\n",
        "      <th>std</th>\n",
        "      <td>   0.855101</td>\n",
        "    </tr>\n",
        "    <tr>\n",
        "      <th>min</th>\n",
        "      <td>   3.000000</td>\n",
        "    </tr>\n",
        "    <tr>\n",
        "      <th>25%</th>\n",
        "      <td>   3.500000</td>\n",
        "    </tr>\n",
        "    <tr>\n",
        "      <th>50%</th>\n",
        "      <td>   4.250000</td>\n",
        "    </tr>\n",
        "    <tr>\n",
        "      <th>75%</th>\n",
        "      <td>   5.000000</td>\n",
        "    </tr>\n",
        "    <tr>\n",
        "      <th>max</th>\n",
        "      <td>   5.500000</td>\n",
        "    </tr>\n",
        "  </tbody>\n",
        "</table>\n",
        "<p>8 rows \u00d7 1 columns</p>\n",
        "</div>"
       ],
       "metadata": {},
       "output_type": "pyout",
       "prompt_number": 11,
       "text": [
        "       enrichment\n",
        "count  360.000000\n",
        "mean     4.250000\n",
        "std      0.855101\n",
        "min      3.000000\n",
        "25%      3.500000\n",
        "50%      4.250000\n",
        "75%      5.000000\n",
        "max      5.500000\n",
        "\n",
        "[8 rows x 1 columns]"
       ]
      }
     ],
     "prompt_number": 11
    },
    {
     "cell_type": "heading",
     "level": 4,
     "metadata": {},
     "source": [
      "Sorting"
     ]
    },
    {
     "cell_type": "raw",
     "metadata": {},
     "source": [
      "If you want to sort your columns the following commented lines will allow you to do this."
     ]
    },
    {
     "cell_type": "code",
     "collapsed": false,
     "input": [
      "#df_sorted = df3.sort(columns, ascending = False)"
     ],
     "language": "python",
     "metadata": {},
     "outputs": []
    },
    {
     "cell_type": "code",
     "collapsed": false,
     "input": [
      "#df_sorted.to_excel('BWR_Combined_notsorted.xlsx', 'Sheet1', index = False)"
     ],
     "language": "python",
     "metadata": {},
     "outputs": []
    },
    {
     "cell_type": "heading",
     "level": 4,
     "metadata": {},
     "source": [
      "Save the file"
     ]
    },
    {
     "cell_type": "raw",
     "metadata": {},
     "source": [
      "Change the df name (df4) to final df created in the line above."
     ]
    },
    {
     "cell_type": "code",
     "collapsed": false,
     "input": [
      "df4.to_excel('BWR_Combined_notsorted.xlsx', 'Sheet1', index = False)"
     ],
     "language": "python",
     "metadata": {},
     "outputs": []
    },
    {
     "cell_type": "code",
     "collapsed": false,
     "input": [],
     "language": "python",
     "metadata": {},
     "outputs": []
    }
   ],
   "metadata": {}
  }
 ]
}