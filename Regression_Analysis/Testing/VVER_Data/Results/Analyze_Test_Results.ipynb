{
 "metadata": {
  "name": "",
  "signature": "sha256:91ecd529da633907bef74db9509661291eb1b2fc502592a7c485a7ab1544c5ef"
 },
 "nbformat": 3,
 "nbformat_minor": 0,
 "worksheets": [
  {
   "cells": [
    {
     "cell_type": "code",
     "collapsed": false,
     "input": [
      "import csv\n",
      "import os\n",
      "import pandas as pd\n",
      "from pyUtil import flattenList as flat\n",
      "import re"
     ],
     "language": "python",
     "metadata": {},
     "outputs": [
      {
       "output_type": "stream",
       "stream": "stderr",
       "text": [
        "/Users/colingerber/anaconda/lib/python2.7/site-packages/pytz-2013b-py2.7.egg/pytz/__init__.py:35: UserWarning: Module argparse was already imported from /Users/colingerber/anaconda/lib/python2.7/argparse.pyc, but /Users/colingerber/anaconda/lib/python2.7/site-packages is being added to sys.path\n",
        "  from pkg_resources import resource_stream\n"
       ]
      }
     ],
     "prompt_number": 1
    },
    {
     "cell_type": "code",
     "collapsed": false,
     "input": [
      "def get_out(directory):\n",
      "    tot_dir_list = os.listdir(directory)\n",
      "    return [f for f in tot_dir_list if '.xlsx' in f]"
     ],
     "language": "python",
     "metadata": {},
     "outputs": [],
     "prompt_number": 2
    },
    {
     "cell_type": "code",
     "collapsed": false,
     "input": [
      "directory = os.getcwd()"
     ],
     "language": "python",
     "metadata": {},
     "outputs": [],
     "prompt_number": 3
    },
    {
     "cell_type": "code",
     "collapsed": false,
     "input": [
      "out_file_list = get_out(directory)\n",
      "#sort the list\n",
      "out_file_list = sorted(out_file_list, key = lambda x: int(re.search('[0-9]+', x).group(0)))"
     ],
     "language": "python",
     "metadata": {},
     "outputs": [],
     "prompt_number": 4
    },
    {
     "cell_type": "code",
     "collapsed": false,
     "input": [
      "def get_data(out_file_list):\n",
      "    result_list = []\n",
      "    for num, f in enumerate(out_file_list):\n",
      "        df = pd.read_excel(f, 'Sheet2')\n",
      "        result_list.append(zip(df.index, df.reactor))\n",
      "    return result_list"
     ],
     "language": "python",
     "metadata": {},
     "outputs": [],
     "prompt_number": 5
    },
    {
     "cell_type": "code",
     "collapsed": false,
     "input": [
      "result_list = get_data(out_file_list)"
     ],
     "language": "python",
     "metadata": {},
     "outputs": [],
     "prompt_number": 6
    },
    {
     "cell_type": "code",
     "collapsed": false,
     "input": [
      "df = pd.DataFrame(zip(*flat.flatten(result_list)))\n",
      "df = df.T\n",
      "df.columns = ['Ratio', 'Reactor']\n",
      "grouped = df.groupby('Ratio')\n",
      "for ratio, data in grouped:\n",
      "    counter_BWR = 0\n",
      "    counter_RBMK = 0\n",
      "    for result in data.Reactor:\n",
      "        if result == 'BWR':\n",
      "            counter_BWR += 1\n",
      "        elif result == 'RBMK':\n",
      "            counter_RBMK += 1\n",
      "    print '%s error: %.2f%%' % (ratio, (100-((counter_BWR + counter_RBMK)/float(len(result_list)))*100))\n",
      "    print 'Error matches: BWR: %d  RBMK: %d' % (counter_BWR, counter_RBMK)"
     ],
     "language": "python",
     "metadata": {},
     "outputs": [
      {
       "output_type": "stream",
       "stream": "stdout",
       "text": [
        "pu238/pu239 error: 96.15%\n",
        "Error matches: BWR: 1  RBMK: 0\n",
        "pu241/pu239 error: 76.92%\n",
        "Error matches: BWR: 6  RBMK: 0\n",
        "pu242/pu239 error: 96.15%\n",
        "Error matches: BWR: 1  RBMK: 0\n"
       ]
      }
     ],
     "prompt_number": 7
    },
    {
     "cell_type": "markdown",
     "metadata": {},
     "source": [
      "Check matching for reactor and enrichment"
     ]
    },
    {
     "cell_type": "code",
     "collapsed": false,
     "input": [
      "#get results with reactor, ration and enrichment\n",
      "\n",
      "def get_data_enrich(out_file_list):\n",
      "    result_list = []\n",
      "    for num, f in enumerate(out_file_list):\n",
      "        df = pd.read_excel(f, 'Sheet2')\n",
      "        result_list.append(zip(df.index, df.reactor, df.enrichment))\n",
      "    return result_list\n",
      "\n",
      "result_list_enrich = get_data_enrich(out_file_list)\n",
      "\n",
      "df_enrich = pd.DataFrame(zip(*flat.flatten(result_list_enrich)))\n",
      "df_enrich = df_enrich.T\n",
      "df_enrich.columns = ['Ratio', 'Reactor', 'Enrichment']\n",
      "\n",
      "# get the real enrichment data to compare against\n",
      "\n",
      "df_real = pd.read_excel('../../All_Data.xlsx', 'Sheet1')\n",
      "df_real = df_real[df_real.Reactor == 'VVER']\n",
      "\n",
      "#match real enichment with guessed enrichment\n",
      "results_enrich = []\n",
      "\n",
      "for ix, row in df_enrich.iterrows():\n",
      "    if row.Reactor == 'VVER':\n",
      "        if list(df_real.Enrichment)[ix/3] == row.Enrichment:\n",
      "            results_enrich.append(row)\n",
      "\n",
      "#put in dataframe\n",
      "df_result_enrich = pd.DataFrame(results_enrich)\n",
      "\n",
      "for ratio, data in df_result_enrich.groupby('Ratio'):\n",
      "    print len(data)\n",
      "    print '%s correct: %.2f%%' % (ratio, (((len(data))/float(len(df_real)))*100))"
     ],
     "language": "python",
     "metadata": {},
     "outputs": [
      {
       "output_type": "stream",
       "stream": "stdout",
       "text": [
        "7\n",
        "pu238/pu239 correct: 25.93%\n",
        "6\n",
        "pu241/pu239 correct: 22.22%\n",
        "2\n",
        "pu242/pu239 correct: 7.41%\n"
       ]
      }
     ],
     "prompt_number": 11
    },
    {
     "cell_type": "code",
     "collapsed": false,
     "input": [
      "#match real enichment with guessed enrichment\n",
      "results_enrich_dif = []\n",
      "\n",
      "for ix, row in df_enrich.iterrows():\n",
      "    results_enrich_dif.append(list(df_real.Enrichment)[ix/3] - row.Enrichment)\n",
      "\n",
      "#put in dataframe\n",
      "df_enrich['Enrich_dif'] = results_enrich_dif\n",
      "#df_result_enrich_dif = pd.DataFrame(results_enrich_dif, columns=['Ratio'])\n",
      "\n",
      "for ratio, data in df_enrich.groupby('Ratio'):\n",
      "    count = 0\n",
      "    for ix, row in data.iterrows():\n",
      "        if row.Reactor == 'VVER':\n",
      "            if abs(row.Enrich_dif) <= 1:\n",
      "                count+=1\n",
      "\n",
      "    print count\n",
      "    print '%s: Percent within 1%% enrichment: %.2f%%' % (ratio, (count/float(len(data)))*100)"
     ],
     "language": "python",
     "metadata": {},
     "outputs": [
      {
       "output_type": "stream",
       "stream": "stdout",
       "text": [
        "23\n",
        "pu238/pu239: Percent within 1% enrichment: 88.46%\n",
        "20\n",
        "pu241/pu239: Percent within 1% enrichment: 76.92%\n",
        "23\n",
        "pu242/pu239: Percent within 1% enrichment: 88.46%\n"
       ]
      }
     ],
     "prompt_number": 14
    },
    {
     "cell_type": "code",
     "collapsed": false,
     "input": [],
     "language": "python",
     "metadata": {},
     "outputs": []
    }
   ],
   "metadata": {}
  }
 ]
}