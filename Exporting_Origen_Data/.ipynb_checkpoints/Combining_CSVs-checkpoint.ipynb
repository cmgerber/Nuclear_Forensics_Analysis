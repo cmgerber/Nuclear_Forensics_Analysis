{
 "metadata": {
  "name": ""
 },
 "nbformat": 3,
 "nbformat_minor": 0,
 "worksheets": [
  {
   "cells": [
    {
     "cell_type": "heading",
     "level": 2,
     "metadata": {},
     "source": [
      "Combining CSV's For Analysis"
     ]
    },
    {
     "cell_type": "raw",
     "metadata": {},
     "source": [
      "This notebook combines all of the compiled csv files you created from running Convert_to_csv_batch.py for a batch of reactor .out files.\n",
      "It combines all of the files and saves them into an excel file. There is another notebook that follows this one which will combine all of\n",
      "excel files you create if you are working with more than one reactor type."
     ]
    },
    {
     "cell_type": "code",
     "collapsed": false,
     "input": [
      "import pandas as pd\n",
      "import numpy as np"
     ],
     "language": "python",
     "metadata": {},
     "outputs": [],
     "prompt_number": 2
    },
    {
     "cell_type": "heading",
     "level": 3,
     "metadata": {},
     "source": [
      "Read CSV's in here:"
     ]
    },
    {
     "cell_type": "heading",
     "level": 4,
     "metadata": {},
     "source": [
      "Update the paths of the read_csv() to match the paths of where your csv's are stored."
     ]
    },
    {
     "cell_type": "code",
     "collapsed": false,
     "input": [
      "df30 = pd.read_csv('1.8/compiled_export.csv')\n",
      "df35 = pd.read_csv('1.9/compiled_export.csv')\n",
      "df40 = pd.read_csv('2.0/compiled_export.csv')\n",
      "df45 = pd.read_csv('2.1/compiled_export.csv')\n",
      "df50 = pd.read_csv('2.2/compiled_export.csv')"
     ],
     "language": "python",
     "metadata": {},
     "outputs": [],
     "prompt_number": 3
    },
    {
     "cell_type": "raw",
     "metadata": {},
     "source": [
      "Add the dataframe names to the first list.\n",
      "Add the enrichment levels to the second list."
     ]
    },
    {
     "cell_type": "code",
     "collapsed": false,
     "input": [
      "df_list = [df30, df35, df40, df45, df50]\n",
      "enrichment_list = [1.8, 1.9, 2.0, 2.1, 2.2]"
     ],
     "language": "python",
     "metadata": {},
     "outputs": [],
     "prompt_number": 4
    },
    {
     "cell_type": "heading",
     "level": 4,
     "metadata": {},
     "source": [
      "Enter the ratios you used into the columns list."
     ]
    },
    {
     "cell_type": "code",
     "collapsed": false,
     "input": [
      "columns = ['pu240/pu239', 'pu238/pu239', 'pu242/pu239', 'pu241/pu239']\n",
      "def column_gen():\n",
      "    for item in columns:\n",
      "        yield item"
     ],
     "language": "python",
     "metadata": {},
     "outputs": [],
     "prompt_number": 5
    },
    {
     "cell_type": "heading",
     "level": 4,
     "metadata": {},
     "source": [
      "Update Ranges"
     ]
    },
    {
     "cell_type": "raw",
     "metadata": {},
     "source": [
      "Update the range based on how much data you have.\n",
      "For example if you have 50 data points per column for each file and 5 files then you would \n",
      "set the range for 250.\n",
      "\n",
      "You then create an empty pandas DataFrame that you will be appending to."
     ]
    },
    {
     "cell_type": "code",
     "collapsed": false,
     "input": [
      "index = range(125)\n",
      "df_tot = pd.DataFrame(index = index, columns = columns)\n",
      "df_tot"
     ],
     "language": "python",
     "metadata": {},
     "outputs": [
      {
       "html": [
        "<pre>\n",
        "&lt;class 'pandas.core.frame.DataFrame'&gt;\n",
        "Int64Index: 250 entries, 0 to 249\n",
        "Data columns (total 4 columns):\n",
        "pu240/pu239    0  non-null values\n",
        "pu238/pu239    0  non-null values\n",
        "pu242/pu239    0  non-null values\n",
        "pu241/pu239    0  non-null values\n",
        "dtypes: object(4)\n",
        "</pre>"
       ],
       "metadata": {},
       "output_type": "pyout",
       "prompt_number": 6,
       "text": [
        "<class 'pandas.core.frame.DataFrame'>\n",
        "Int64Index: 250 entries, 0 to 249\n",
        "Data columns (total 4 columns):\n",
        "pu240/pu239    0  non-null values\n",
        "pu238/pu239    0  non-null values\n",
        "pu242/pu239    0  non-null values\n",
        "pu241/pu239    0  non-null values\n",
        "dtypes: object(4)"
       ]
      }
     ],
     "prompt_number": 6
    },
    {
     "cell_type": "raw",
     "metadata": {},
     "source": [
      "Change the range to the amount of data you have per file.\n",
      "For example if you have 50 data points per column for each file, change the range to 50.\n",
      "Also update the temp_list[] to reflect the change in the range.\n",
      "So for a range of 50 the first temp_list would be temp_list[0:50] and the second would be temp_list[50:100].\n",
      "\n",
      "There should be one copy of the next chunk of code for each\n",
      "csv file you imported. If there are two many delete the extras.\n",
      "If there are to few copy new ones and update them. Make sure to update\n",
      "the names of the data frame. For example you would change df30 to the\n",
      "name of the extra df and then update the df30_new's to reflect that."
     ]
    },
    {
     "cell_type": "code",
     "collapsed": false,
     "input": [
      "#looping through process\n",
      "\n",
      "for df in df_list:\n",
      "    \n",
      "    temp_list = []\n",
      "    new_col = column_gen()\n",
      "    \n",
      "    for item in list(df['pu240/pu239']):\n",
      "        try:\n",
      "            float(item)\n",
      "            temp_list.append(item)\n",
      "        except:\n",
      "            continue\n",
      "    #change the range here\n",
      "    index = range(25)\n",
      "    \n",
      "    df30_new = pd.DataFrame(index = index, columns = columns)\n",
      "    \n",
      "    #change the temp lists here\n",
      "    df30_new[next(new_col)] = temp_list[0:25]\n",
      "    df30_new[next(new_col)] = temp_list[25:50]\n",
      "    df30_new[next(new_col)] = temp_list[50:75]\n",
      "    df30_new[next(new_col)] = temp_list[75:100]"
     ],
     "language": "python",
     "metadata": {},
     "outputs": []
    },
    {
     "cell_type": "code",
     "collapsed": false,
     "input": [
      "temp_list = []\n",
      "temp_list1 = []\n",
      "new_col = column_gen()\n",
      "\n",
      "for item in list(df30['pu240/pu239']):\n",
      "    try:\n",
      "        float(item)\n",
      "        temp_list.append(item)\n",
      "    except:\n",
      "        continue\n",
      "#change the range here\n",
      "index = range(25)\n",
      "\n",
      "df30_new = pd.DataFrame(index = index, columns = columns)\n",
      "\n",
      "#change the temp lists here\n",
      "df30_new[next(new_col)] = temp_list[0:25]\n",
      "df30_new[next(new_col)] = temp_list[25:50]\n",
      "df30_new[next(new_col)] = temp_list[50:75]\n",
      "df30_new[next(new_col)] = temp_list[75:100]\n",
      "            "
     ],
     "language": "python",
     "metadata": {},
     "outputs": [],
     "prompt_number": 7
    },
    {
     "cell_type": "code",
     "collapsed": false,
     "input": [
      "temp_list = []\n",
      "temp_list1 = []\n",
      "new_col = column_gen()\n",
      "\n",
      "for item in list(df35['pu240/pu239']):\n",
      "    try:\n",
      "        float(item)\n",
      "        temp_list.append(item)\n",
      "    except:\n",
      "        continue\n",
      "index = range(25)\n",
      "df35_new = pd.DataFrame(index = index, columns = columns)\n",
      "df35_new[next(new_col)] = temp_list[0:25]\n",
      "df35_new[next(new_col)] = temp_list[25:50]\n",
      "df35_new[next(new_col)] = temp_list[50:75]\n",
      "df35_new[next(new_col)] = temp_list[75:100]"
     ],
     "language": "python",
     "metadata": {},
     "outputs": [],
     "prompt_number": 8
    },
    {
     "cell_type": "code",
     "collapsed": false,
     "input": [
      "temp_list = []\n",
      "temp_list1 = []\n",
      "new_col = column_gen()\n",
      "\n",
      "for item in list(df40['pu240/pu239']):\n",
      "    try:\n",
      "        float(item)\n",
      "        temp_list.append(item)\n",
      "    except:\n",
      "        continue\n",
      "index = range(25)\n",
      "df40_new = pd.DataFrame(index = index, columns = columns)\n",
      "df40_new[next(new_col)] = temp_list[0:25]\n",
      "df40_new[next(new_col)] = temp_list[25:50]\n",
      "df40_new[next(new_col)] = temp_list[50:75]\n",
      "df40_new[next(new_col)] = temp_list[75:100]"
     ],
     "language": "python",
     "metadata": {},
     "outputs": [],
     "prompt_number": 9
    },
    {
     "cell_type": "code",
     "collapsed": false,
     "input": [
      "temp_list = []\n",
      "temp_list1 = []\n",
      "new_col = column_gen()\n",
      "\n",
      "for item in list(df45['pu240/pu239']):\n",
      "    try:\n",
      "        float(item)\n",
      "        temp_list.append(item)\n",
      "    except:\n",
      "        continue\n",
      "index = range(25)\n",
      "df45_new = pd.DataFrame(index = index, columns = columns)\n",
      "df45_new[next(new_col)] = temp_list[0:25]\n",
      "df45_new[next(new_col)] = temp_list[25:50]\n",
      "df45_new[next(new_col)] = temp_list[50:75]\n",
      "df45_new[next(new_col)] = temp_list[75:100]"
     ],
     "language": "python",
     "metadata": {},
     "outputs": [],
     "prompt_number": 10
    },
    {
     "cell_type": "code",
     "collapsed": false,
     "input": [
      "temp_list = []\n",
      "temp_list1 = []\n",
      "new_col = column_gen()\n",
      "\n",
      "for item in list(df50['pu240/pu239']):\n",
      "    try:\n",
      "        float(item)\n",
      "        temp_list.append(item)\n",
      "    except:\n",
      "        continue\n",
      "index = range(25)\n",
      "df50_new = pd.DataFrame(index = index, columns = columns)\n",
      "df50_new[next(new_col)] = temp_list[0:25]\n",
      "df50_new[next(new_col)] = temp_list[25:50]\n",
      "df50_new[next(new_col)] = temp_list[50:75]\n",
      "df50_new[next(new_col)] = temp_list[75:100]"
     ],
     "language": "python",
     "metadata": {},
     "outputs": [],
     "prompt_number": 11
    },
    {
     "cell_type": "heading",
     "level": 4,
     "metadata": {},
     "source": [
      "Combining the DataFrames"
     ]
    },
    {
     "cell_type": "raw",
     "metadata": {},
     "source": [
      "Make sure that all of your data frames are being combined.\n",
      "If they are not copy a new line and update the df names so that \n",
      "the final df has all of the df's you created earlier appended \n",
      "into it."
     ]
    },
    {
     "cell_type": "code",
     "collapsed": false,
     "input": [
      "df1 = df30_new.append(df35_new)\n",
      "df2 = df1.append(df40_new)\n",
      "df3 = df2.append(df45_new)\n",
      "df4 = df3.append(df50_new)"
     ],
     "language": "python",
     "metadata": {},
     "outputs": [],
     "prompt_number": 12
    },
    {
     "cell_type": "heading",
     "level": 4,
     "metadata": {},
     "source": [
      "Sorting"
     ]
    },
    {
     "cell_type": "raw",
     "metadata": {},
     "source": [
      "If you want to sort your columns the following commented lines will allow you to do this."
     ]
    },
    {
     "cell_type": "code",
     "collapsed": false,
     "input": [
      "#df_sorted = df3.sort(columns, ascending = False)"
     ],
     "language": "python",
     "metadata": {},
     "outputs": [],
     "prompt_number": 13
    },
    {
     "cell_type": "code",
     "collapsed": false,
     "input": [
      "#df_sorted.to_excel('BWR_Combined_notsorted.xlsx', 'Sheet1', index = False)"
     ],
     "language": "python",
     "metadata": {},
     "outputs": [],
     "prompt_number": 14
    },
    {
     "cell_type": "heading",
     "level": 4,
     "metadata": {},
     "source": [
      "Save the file"
     ]
    },
    {
     "cell_type": "raw",
     "metadata": {},
     "source": [
      "Change the df name (df4) to final df created in the line above."
     ]
    },
    {
     "cell_type": "code",
     "collapsed": false,
     "input": [
      "df4.to_excel('BWR_Combined_notsorted.xlsx', 'Sheet1', index = False)"
     ],
     "language": "python",
     "metadata": {},
     "outputs": [],
     "prompt_number": 15
    },
    {
     "cell_type": "code",
     "collapsed": false,
     "input": [],
     "language": "python",
     "metadata": {},
     "outputs": []
    }
   ],
   "metadata": {}
  }
 ]
}