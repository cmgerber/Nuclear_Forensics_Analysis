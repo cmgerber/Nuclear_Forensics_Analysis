{
 "metadata": {
  "name": "",
  "signature": "sha256:38f065053f8a2f74a7f42ff8d4e769f498f015ec367680d98deed3781b8a8df7"
 },
 "nbformat": 3,
 "nbformat_minor": 0,
 "worksheets": [
  {
   "cells": [
    {
     "cell_type": "code",
     "collapsed": false,
     "input": [
      "import pandas as pd"
     ],
     "language": "python",
     "metadata": {},
     "outputs": [],
     "prompt_number": 2
    },
    {
     "cell_type": "code",
     "collapsed": false,
     "input": [
      "df = pd.read_excel('VVER_RBMK_BWR_Real_Data.xlsx','Sheet1')"
     ],
     "language": "python",
     "metadata": {},
     "outputs": [],
     "prompt_number": 3
    },
    {
     "cell_type": "code",
     "collapsed": false,
     "input": [
      "df.drop('burnup', axis=1, inplace=True)"
     ],
     "language": "python",
     "metadata": {},
     "outputs": [],
     "prompt_number": 7
    },
    {
     "cell_type": "code",
     "collapsed": false,
     "input": [
      "low_values = []\n",
      "high_values = []\n",
      "for ix, row in df.iterrows():\n",
      "    if (row['pu238/pu239'] > .02 or row['pu240/pu239'] > .3 or\n",
      "        row['pu241/pu239'] > .05 or row['pu242/pu239'] > .05):\n",
      "        high_values.append(row)\n",
      "    else:\n",
      "        low_values.append(row)\n",
      "        "
     ],
     "language": "python",
     "metadata": {},
     "outputs": [],
     "prompt_number": 9
    },
    {
     "cell_type": "code",
     "collapsed": false,
     "input": [
      "df_low = pd.DataFrame(low_values)\n",
      "df_high = pd.DataFrame(high_values)"
     ],
     "language": "python",
     "metadata": {},
     "outputs": [],
     "prompt_number": 10
    },
    {
     "cell_type": "code",
     "collapsed": false,
     "input": [
      "df_low.to_excel('Low_real_data.xlsx', 'Sheet1')"
     ],
     "language": "python",
     "metadata": {},
     "outputs": [],
     "prompt_number": 13
    },
    {
     "cell_type": "code",
     "collapsed": false,
     "input": [
      "df_high.to_excel('High_real_data.xlsx', 'Sheet1')"
     ],
     "language": "python",
     "metadata": {},
     "outputs": [],
     "prompt_number": 14
    },
    {
     "cell_type": "code",
     "collapsed": false,
     "input": [
      "!pwd"
     ],
     "language": "python",
     "metadata": {},
     "outputs": [
      {
       "output_type": "stream",
       "stream": "stdout",
       "text": [
        "/Users/colingerber/Documents/GSR Work/Programing/Cluster_Analysis/Current_Version/Nuclear_Forensics_Cluster_Analysis/Regression_Analysis/Testing\r\n"
       ]
      }
     ],
     "prompt_number": 15
    },
    {
     "cell_type": "code",
     "collapsed": false,
     "input": [],
     "language": "python",
     "metadata": {},
     "outputs": []
    }
   ],
   "metadata": {}
  }
 ]
}